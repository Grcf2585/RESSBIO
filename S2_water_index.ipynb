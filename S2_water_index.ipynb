{
  "nbformat": 4,
  "nbformat_minor": 0,
  "metadata": {
    "colab": {
      "provenance": [],
      "authorship_tag": "ABX9TyMw39RsjtQRhOKtYZa8fLch",
      "include_colab_link": true
    },
    "kernelspec": {
      "name": "python3",
      "display_name": "Python 3"
    },
    "language_info": {
      "name": "python"
    }
  },
  "cells": [
    {
      "cell_type": "markdown",
      "metadata": {
        "id": "view-in-github",
        "colab_type": "text"
      },
      "source": [
        "<a href=\"https://colab.research.google.com/github/Grcf2585/RESSBIO/blob/main/S2_water_index.ipynb\" target=\"_parent\"><img src=\"https://colab.research.google.com/assets/colab-badge.svg\" alt=\"Open In Colab\"/></a>"
      ]
    },
    {
      "cell_type": "markdown",
      "source": [
        "**Install the required libraries**"
      ],
      "metadata": {
        "id": "i-FhTBkAK4ez"
      }
    },
    {
      "cell_type": "code",
      "execution_count": null,
      "metadata": {
        "id": "dWhHqnjBKz2S"
      },
      "outputs": [],
      "source": [
        "!pip install geemap\n",
        "!pip install earthengine-api\n",
        "!pip install PyShp\n",
        "!pip install PyCRS\n",
        "!pip install geopandas\n",
        "!pip install pygal\n",
        "!pip install ipygee\n",
        "#geemap.update_package()"
      ]
    },
    {
      "cell_type": "markdown",
      "source": [
        "**Import libraries**"
      ],
      "metadata": {
        "id": "mbbnv6WnLPUZ"
      }
    },
    {
      "cell_type": "code",
      "source": [
        "import ee\n",
        "import geemap\n",
        "import geemap.colormaps as cm\n",
        "\n",
        "from ipyleaflet import *\n",
        "from ipywidgets import Label\n",
        "from datetime import datetime, timedelta\n",
        "import pandas as pd\n",
        "import numpy as np\n",
        "import matplotlib.pyplot as plt\n",
        "import sys\n",
        "import time\n",
        "import math\n",
        "\n",
        "import numpy as np\n",
        "import matplotlib.pyplot as plt\n",
        "import matplotlib.dates as mdates\n",
        "import matplotlib.ticker as ticker\n",
        "\n",
        "import scipy.io\n",
        "import os\n",
        "import pickle\n",
        "import datetime\n",
        "import array\n",
        "\n",
        "import pycrs\n",
        "import shapely\n",
        "import shapefile as shp\n",
        "from shapely.geometry import mapping\n",
        "from shapely.geometry import box\n",
        "\n",
        "import pygal\n",
        "import ipygee as ui\n",
        "from ipygee import *\n",
        "from ipygee import chart"
      ],
      "metadata": {
        "id": "toGNlDEnLT44"
      },
      "execution_count": 55,
      "outputs": []
    },
    {
      "cell_type": "markdown",
      "source": [
        "**Mount GitHub repository**"
      ],
      "metadata": {
        "id": "iF51rVgJLbj3"
      }
    },
    {
      "cell_type": "code",
      "source": [
        "!rm -r RESSBIO # delete the complete repository folder \n",
        "!git clone https://github.com/Grcf2585/RESSBIO # clone repository folder\n",
        "sys.path.insert(0,'/content/RESSBIO')"
      ],
      "metadata": {
        "id": "4AbiV2vBcXZP"
      },
      "execution_count": null,
      "outputs": []
    },
    {
      "cell_type": "markdown",
      "source": [
        "**Authenticate and initialize ee**"
      ],
      "metadata": {
        "id": "u1DxZqmxLm2k"
      }
    },
    {
      "cell_type": "code",
      "source": [
        "try:\n",
        "    ee.Initialize()\n",
        "except Exception as e:\n",
        "    ee.Authenticate()\n",
        "    ee.Initialize()"
      ],
      "metadata": {
        "id": "u5t3ZxJbLpQs"
      },
      "execution_count": null,
      "outputs": []
    },
    {
      "cell_type": "markdown",
      "source": [
        "**Select the Area of Interest**"
      ],
      "metadata": {
        "id": "zgILYWW4L399"
      }
    },
    {
      "cell_type": "code",
      "source": [
        "Map = geemap.Map()\n",
        "Map.default_style = {'cursor': 'crosshair'}\n",
        "Map.add_basemap('SATELLITE')\n",
        "\n",
        "# Center the map in the desired country\n",
        "country = 'Spain'\n",
        "country_bounds = ee.FeatureCollection(\"USDOS/LSIB_SIMPLE/2017\").filterMetadata('country_na', 'equals', country);\n",
        "Map.centerObject(country_bounds,8)\n",
        "Map"
      ],
      "metadata": {
        "id": "qO6REGmpL1Fk"
      },
      "execution_count": null,
      "outputs": []
    },
    {
      "cell_type": "markdown",
      "source": [
        "**Retrieve the ROI from the map**"
      ],
      "metadata": {
        "id": "1Nr2ppmeMFdm"
      }
    },
    {
      "cell_type": "code",
      "source": [
        "roi_N = geemap.shp_to_ee('/content/RESSBIO/ROIs Albufera/N_Polygon.shp')\n",
        "Map.addLayer(roi_N, {},'Albufera ROI_N')\n",
        "\n",
        "roi_S = geemap.shp_to_ee('/content/RESSBIO/ROIs Albufera/S_Polygon.shp')\n",
        "Map.addLayer(roi_S, {},'Albufera ROI_S')\n",
        "\n",
        "roi_NW = geemap.shp_to_ee('/content/RESSBIO/ROIs Albufera/NW_Polygon.shp')\n",
        "Map.addLayer(roi_NW, {},'Albufera ROI_NW')\n",
        "\n",
        "roi_SW = geemap.shp_to_ee('/content/RESSBIO/ROIs Albufera/SW_Polygon.shp')\n",
        "Map.addLayer(roi_SW, {},'Albufera ROI_SW')\n",
        " \n",
        "roi_W = geemap.shp_to_ee('/content/RESSBIO/ROIs Albufera/W_Polygon.shp')\n",
        "Map.addLayer(roi_W, {},'Albufera ROI_W')\n",
        "\n",
        "roi_Albufera = geemap.shp_to_ee('/content/RESSBIO/ROIs Albufera/Albufera curvas.shp')\n",
        "Map.addLayer(roi_Albufera, {},'Albufera ROI')\n"
      ],
      "metadata": {
        "id": "CPdwh4rIpAZS"
      },
      "execution_count": 7,
      "outputs": []
    },
    {
      "cell_type": "code",
      "source": [
        "#feature = Map.draw_last_feature\n",
        "#roi_show_map = feature.geometry()"
      ],
      "metadata": {
        "id": "ki6IurRLMFFU"
      },
      "execution_count": 8,
      "outputs": []
    },
    {
      "cell_type": "markdown",
      "source": [
        "**Model import**"
      ],
      "metadata": {
        "id": "-dqaTcxChRmZ"
      }
    },
    {
      "cell_type": "code",
      "source": [
        "!cp /content/RESSBIO/Models/GEE_GPR_10KCV_CHL_model.py . \n",
        "!cp /content/RESSBIO/Models/GEE_GPR_4KCV_PC_model.py .\n",
        "!cp /content/RESSBIO/Models/GEE_GPR_4KCV_SDD_model.py .\n",
        "\n",
        "import GEE_GPR_10KCV_CHL_model\n",
        "import GEE_GPR_4KCV_PC_model\n",
        "import GEE_GPR_4KCV_SDD_model"
      ],
      "metadata": {
        "id": "mxnMFkVsZN8D"
      },
      "execution_count": 9,
      "outputs": []
    },
    {
      "cell_type": "code",
      "source": [
        "# In-situ data loading\n",
        "Albufera_insitu_data = loadmat('/content/RESSBIO/In situ data/Centro_Insitu_Albufera_2016_2023.mat',squeeze_me=True)\n",
        "X_insitu = np.array(Albufera_insitu_data['Insitu_date'])\n",
        "X_insitu = pd.to_datetime(X_insitu-719529, unit='D')\n",
        "Chl_insitu = Albufera_insitu_data['Chlorophyll']\n",
        "Secchi_insitu = Albufera_insitu_data['Secchi']"
      ],
      "metadata": {
        "id": "AUv5dgRClEJP"
      },
      "execution_count": 10,
      "outputs": []
    },
    {
      "cell_type": "markdown",
      "source": [
        "**Functions**"
      ],
      "metadata": {
        "id": "-zjWqaQjMdS-"
      }
    },
    {
      "cell_type": "code",
      "source": [
        "# Auxiliar function for mapping : (1..n) -> (B1..Bn)\n",
        "def band_names(element):\n",
        "  bandName = ee.String('B').cat(ee.Number(element).int().format())\n",
        "  return bandName\n",
        "\n",
        "def addDoy(image):\n",
        "  doy = image.date().getRelative('day', 'year')\n",
        "  doyBand = ee.Image.constant(doy).uint16().rename('doy')\n",
        "  return image.addBands(doyBand)"
      ],
      "metadata": {
        "id": "uZKfPqXsjEjL"
      },
      "execution_count": 11,
      "outputs": []
    },
    {
      "cell_type": "code",
      "source": [
        "# Water variable GPR for mean prediction\n",
        "def water_var_GPR(image_orig):\n",
        "  \n",
        "  # Create List of Bands of Dimension n (Xtrain[n,n])\n",
        "  XTrain_dim = currentModel['X_train'].length().get([0]).getInfo();\n",
        "\n",
        "  band_sequence   = (ee.List.sequence(1, XTrain_dim)\n",
        "                    .map(band_names));\n",
        "  \n",
        "  # Create a list of band names for flattening operation \n",
        "  im_norm_ell2D_hypell = image_orig.subtract(ee.Image(currentModel['mx'])).divide(ee.Image(currentModel['sx'])).multiply(ee.Image(currentModel['hyp_ell'])).toArray().toArray(1); \n",
        "  \n",
        "  im_norm_ell2D = image_orig.subtract(ee.Image(currentModel['mx'])).divide(ee.Image(currentModel['sx'])).toArray().toArray(1); \n",
        "  \n",
        "  PtTPt  = im_norm_ell2D_hypell.matrixTranspose().matrixMultiply(im_norm_ell2D).arrayProject([0]).multiply(-0.5); \n",
        "  \n",
        "  PtTDX  = ee.Image(currentModel['X_train']).matrixMultiply(im_norm_ell2D_hypell).arrayProject([0]).arrayFlatten([band_sequence]);\n",
        "  \n",
        "  arg1   = PtTPt.exp().multiply(currentModel['hyp_sig']);\n",
        "  \n",
        "  k_star = PtTDX.subtract(ee.Image(currentModel['XDX_pre_calc']).multiply(0.5)).exp().toArray();\n",
        "  \n",
        "  mean_pred = k_star.arrayDotProduct(ee.Image(currentModel['alpha_coefficients']).toArray()).multiply(arg1);\n",
        "  \n",
        "  mean_pred = mean_pred.toArray(1).arrayProject([0]).arrayFlatten([[currentModel['veg_index']]]);\n",
        "  \n",
        "  mean_pred = mean_pred.add(currentModel['mean_model']);\n",
        "  \n",
        "  # Mask values equal or less than 0\n",
        "  mean_pred = mean_pred.updateMask(mean_pred.gt(0))\n",
        "  \n",
        "  image_orig = image_orig.addBands(mean_pred)\n",
        "  \n",
        "  return image_orig.select(currentModel['veg_index'])"
      ],
      "metadata": {
        "id": "4o0OBuaPjF7s"
      },
      "execution_count": 12,
      "outputs": []
    },
    {
      "cell_type": "code",
      "source": [
        "def mask_gt(image):\n",
        "  veg_index_mask = image.select(currentModel['veg_index']).gt(0).rename('veg_index_mask')\n",
        "  return image.addBands(veg_index_mask).select('veg_index_mask')\n",
        "\n",
        "def addVariables(image):\n",
        "  date = ee.Date(image.get(\"system:time_start\"))\n",
        "  years = date.difference(ee.Date('1970-01-01'),'days')\n",
        "  return image.addBands(ee.Image(years).rename('t').float())"
      ],
      "metadata": {
        "id": "l6Kb5S5NjdeG"
      },
      "execution_count": 13,
      "outputs": []
    },
    {
      "cell_type": "code",
      "source": [
        "def extract_ts(roi, col, band):\n",
        "    \"\"\" Constructs a dataframe with the time series for the ROI with the image\n",
        "        collection.\n",
        "\n",
        "        Parameters\n",
        "        ----------\n",
        "        roi : ee.Geometry, Region of interest\n",
        "        \n",
        "        col : ee.ImageCollection\n",
        "        \n",
        "        band : string, Name of the band to retrieve\n",
        "        \n",
        "        Returns\n",
        "        ------\n",
        "        A pandas dataframe\n",
        "        \n",
        "    \"\"\"\n",
        "                \n",
        "    # Auxiliar function to replace the null values with custom value(-9999)\n",
        "    # so we do not lose the masked values.\n",
        "    def set_NAN(key,val):       \n",
        "        return ee.List([val, -9999]).reduce(ee.Reducer.firstNonNull())\n",
        "\n",
        "    # Retrieve the mean value of the band in the roi and the date of the image\n",
        "    def get_ts(image):        \n",
        "        stat = image.select([band]).reduceRegion(\n",
        "            reducer = ee.Reducer.mean(),\n",
        "            geometry= roi,\n",
        "            scale= 20,\n",
        "            bestEffort= True        \n",
        "        )\n",
        "        stat = stat.map(set_NAN)\n",
        "        return ee.Feature(roi, stat).set({'millis': image.date().millis()})\n",
        "    \n",
        "    # List of features containing the reduced value and the date\n",
        "    ts = col.map(get_ts)\n",
        "        \n",
        "    # Lists of values and dates\n",
        "    y = ts.aggregate_array(band).getInfo()\n",
        "    dates_ms = ts.aggregate_array('millis').getInfo() # Date in ms\n",
        "    x = [datetime.fromtimestamp(d//1000.0) for d in dates_ms] # Formatted date    \n",
        "    \n",
        "    # Dictionary that will feed the pandas dataframe\n",
        "    dict = {'date': x, band: y} \n",
        "    # Contruct the df and replace the custom NaN values(-9999) with np.nan\n",
        "    df = pd.DataFrame(dict).replace(-9999, np.nan)    \n",
        "    return df"
      ],
      "metadata": {
        "id": "dQJkgJwxjggu"
      },
      "execution_count": 14,
      "outputs": []
    },
    {
      "cell_type": "code",
      "source": [
        "# Masking function for water and cloud\n",
        "def maskS2cloud_and_water(image):\n",
        "  not_water = image.select('SCL').neq(6);\n",
        "  not_cloud_low = image.select('SCL').neq(7);\n",
        "  not_cloud_medium = image.select('SCL').neq(8);\n",
        "  not_cloud_high = image.select('SCL').neq(9);\n",
        "  not_cirrus = image.select('SCL').neq(10);\n",
        "  \n",
        "  qa = image.select('QA60');\n",
        "  cloudBitMask = 1 << 10;\n",
        "  cirrusBitMask = 1 << 11;\n",
        "  mask = (qa.bitwiseAnd(cloudBitMask).eq(0).And(qa.bitwiseAnd(cirrusBitMask).eq(0)).And(not_water).And(not_cloud_low)\n",
        "          .And(not_cloud_medium).And(not_cloud_high).And(not_cirrus))\n",
        "  return image.updateMask(mask).divide(10000).copyProperties(qa).set('system:time_start', qa.get('system:time_start'))"
      ],
      "metadata": {
        "id": "vELqGHpUMXOI"
      },
      "execution_count": 15,
      "outputs": []
    },
    {
      "cell_type": "code",
      "source": [
        "#Function to mask clouds using the Sentinel-2 QA band\n",
        " \n",
        "def maskS2clouds(image):\n",
        "    qa = image.select('QA60');\n",
        "    #Bits 10 and 11 are clouds and cirrus, respectively.\n",
        "    cloudBitMask = 1 << 10;\n",
        "    cirrusBitMask = 1 << 11;\n",
        "\n",
        "    #Both flags should be set to zero, indicating clear conditions.\n",
        "    #mask = qa.bitwiseAnd(cloudBitMask).eq(0)and(qa.bitwiseAnd(cirrusBitMask).eq(0));\n",
        "    mask = qa.bitwiseAnd(cloudBitMask).eq(0).And(qa.bitwiseAnd(cirrusBitMask).eq(0));\n",
        "\n",
        "    return image.updateMask(mask).divide(10000).copyProperties(image).set(\"system:time_start\", image.get(\"system:time_start\"));"
      ],
      "metadata": {
        "id": "_2JzbXb-MoIP"
      },
      "execution_count": 16,
      "outputs": []
    },
    {
      "cell_type": "code",
      "source": [
        "# Function to calculate and add Phycocyanin band\n",
        "#ficocianina_S2 = #e^2.6151*(R740/R665)+3.6369;\n",
        "#R740 nm = B6\n",
        "#R665 nm = B4\n",
        "\n",
        "def addFICOS2(image):\n",
        "    fico = (((image.select('B6').divide(image.select('B4')).multiply(2.6151)).add(3.6369))).exp().rename('fico')\n",
        "\n",
        "    return image.addBands(fico)"
      ],
      "metadata": {
        "id": "oYsm5NVtB-Bf"
      },
      "execution_count": 17,
      "outputs": []
    },
    {
      "cell_type": "code",
      "source": [
        "# Function to calculate and add Chlorophyll band\n",
        "#TBDO = R740*(1/R665 - 1/R705)\n",
        "#clorofila_S2 = 104.1*(TBDO^2) + 221.1*TBDO + 2\n",
        "#R665 = B4\n",
        "#R705 = B5\n",
        "#R740 = B6\n",
        "\n",
        "def addCHLROS2(image):\n",
        "    tbdo = (image.select('B6').divide(image.select('B4'))).subtract(image.select('B6').divide(image.select('B5')))\n",
        "    chlro =  ((tbdo.multiply(tbdo).multiply(104.1).add(tbdo.multiply(221.1))).add(2)).rename('chlro')\n",
        "\n",
        "    return image.addBands(chlro)"
      ],
      "metadata": {
        "id": "9PVAwQKwxch0"
      },
      "execution_count": 18,
      "outputs": []
    },
    {
      "cell_type": "code",
      "source": [
        "# Function to calculate and add Secchi band\n",
        "#profundidad_Secchi_S2 =  0.224*(R560/R704)+0.0836\n",
        "#R560 nm = B3\n",
        "#R704 nm = B5\n",
        "\n",
        "def addSECCHIS2(image):\n",
        "    Secchi = ((image.select('B3').divide(image.select('B5')).multiply(0.224)).add(0.0836)).rename('Secchi')\n",
        "    return image.addBands(Secchi)"
      ],
      "metadata": {
        "id": "6xWA5atexj3z"
      },
      "execution_count": 19,
      "outputs": []
    },
    {
      "cell_type": "code",
      "source": [
        "# Clipping image collection by Albufera geometry\n",
        "def clipcol(image):\n",
        "    clipimage = image.clip(roi_Albufera)\n",
        "    return clipimage\n",
        "\n",
        "# Add NDWI band to image collection\n",
        "def addNDWI(image):\n",
        "    return image.addBands(image.normalizedDifference(['B3', 'B5']).rename('NDWI'));\n",
        "\n",
        "# Function to mask out NDWI\n",
        "def S2maskedWater(image):\n",
        "    NDWI = image.select(['NDWI']);\n",
        "    return image.addBands(ee.Image(1).updateMask(NDWI.gte(-0.3)).rename('NDWI_mask')); #lte\n",
        "\n",
        "# Function to mask out Phycocyanin values greater than 3000\n",
        "def S2maskPC(image):\n",
        "    PC = image.select(['fico']);\n",
        "    return image.updateMask(PC.lte(3000)); #lte\n",
        "\n",
        "def maskBands(image):\n",
        "  return image.select(['B2', 'B3', 'B4', 'B5', 'B6', 'B7','B8A','NDWI']).updateMask(image.select('NDWI_mask'));\n"
      ],
      "metadata": {
        "id": "CpVwawSzPW-M"
      },
      "execution_count": 20,
      "outputs": []
    },
    {
      "cell_type": "markdown",
      "source": [
        "Dates of interest and acquisitions configuration parameters"
      ],
      "metadata": {
        "id": "rUpzMesZNmvy"
      }
    },
    {
      "cell_type": "code",
      "source": [
        "# Configuration Parameters\n",
        "start_date = '2017-03-28'\n",
        "end_date = '2023-05-04'\n",
        "S2_CPP = 3 # CLOUDY_PIXEL_PERCENTAGE\n",
        "#roi = roi_show_map\n",
        "roi = roi_N.geometry() # Select the current region of interest, the options are: roi_N, roi_S, roi_W, roi_SW, and roi_NW. \n",
        "geometry = roi_Albufera # The Albufera mask is copied as geometry to filter the image collection posteriorly. "
      ],
      "metadata": {
        "id": "OUDTAHYZNW4b"
      },
      "execution_count": 21,
      "outputs": []
    },
    {
      "cell_type": "markdown",
      "source": [
        "Create the initial image collection with the spectral bands"
      ],
      "metadata": {
        "id": "v5qFkqNaZeBe"
      }
    },
    {
      "cell_type": "code",
      "source": [
        "# Retrieving Sentinel 2 imagery \n",
        "print('SENTINEL-2 time series being retrieved')\n",
        "S2collection_raw = ee.ImageCollection('COPERNICUS/S2_SR_HARMONIZED')\\\n",
        "                   .filterBounds(roi)\\\n",
        "                   .filterDate(start_date,end_date)\\\n",
        "                   .map(maskS2clouds)\\\n",
        "                   .filterMetadata('CLOUDY_PIXEL_PERCENTAGE','less_than', S2_CPP)\\\n",
        "                   .select(['B2', 'B3', 'B4', 'B5', 'B6', 'B7','B8A'])\\\n",
        "          \n",
        "# Apply water masking functions to the image collection\n",
        "S2collection_aux = S2collection_raw.map(addNDWI).map(S2maskedWater).map(maskBands);  \n",
        "S2collection_ini = S2collection_aux.map(clipcol).select(['B2', 'B3', 'B4', 'B5', 'B6', 'B7','B8A']);"
      ],
      "metadata": {
        "id": "JA2rLDwjZi5m",
        "colab": {
          "base_uri": "https://localhost:8080/"
        },
        "outputId": "f3830166-c0d7-4251-8721-b18b83c2b0b1"
      },
      "execution_count": 22,
      "outputs": [
        {
          "output_type": "stream",
          "name": "stdout",
          "text": [
            "SENTINEL-2 time series being retrieved\n"
          ]
        }
      ]
    },
    {
      "cell_type": "markdown",
      "source": [
        "S2 dates extraction"
      ],
      "metadata": {
        "id": "2GphMjlQQkEC"
      }
    },
    {
      "cell_type": "code",
      "source": [
        "# Creating labels - Multitemporal plotting \n",
        "labels_S2 = S2collection_ini.aggregate_array(\"system:index\").getInfo()\n",
        "\n",
        "# Dates S2\n",
        "Dates_S2 = []\n",
        "for i in labels_S2:\n",
        "    Dates_S2.append(datetime.datetime.strptime(i.split('_')[0].split('T')[0], '%Y%m%d').date())\n",
        "Dates_S2.sort()\n",
        "\n",
        "#datetime.datetime.strptime(date, \"%Y-%m-%d\")\n",
        "#https://stackoverflow.com/questions/19480028/attributeerror-datetime-module-has-no-attribute-strptime"
      ],
      "metadata": {
        "id": "I9c6F79HMjc1"
      },
      "execution_count": 56,
      "outputs": []
    },
    {
      "cell_type": "markdown",
      "source": [
        "Creating the retrieved image collection by applying Gaussian Process Regression"
      ],
      "metadata": {
        "id": "mof_OkJoXXZt"
      }
    },
    {
      "cell_type": "code",
      "source": [
        "#GPR retrieval model configuration (Chlorophyll)\n",
        "\n",
        "currentwatervariable ='Chl'\n",
        "currentModel = GEE_GPR_10KCV_CHL_model.models[currentwatervariable]\n",
        "S2_GPR_CHL_collection =  S2collection_ini.map(water_var_GPR).select(currentModel['veg_index'])\n",
        "del currentwatervariable\n",
        "del currentModel \n",
        "\n",
        "#GPR retrieval model configuration (Phycocyanin)\n",
        "currentwatervariable ='PC'\n",
        "currentModel = GEE_GPR_4KCV_PC_model.models[currentwatervariable]\n",
        "S2_GPR_PC_collection =  S2collection_ini.map(water_var_GPR).select(currentModel['veg_index'])\n",
        "del currentwatervariable\n",
        "del currentModel \n",
        "\n",
        "#GPR retrieval model configuration (Secchi Disc Depth)\n",
        "currentwatervariable ='ZSD'\n",
        "currentModel = GEE_GPR_4KCV_SDD_model.models[currentwatervariable]\n",
        "S2_GPR_SDD_collection =  S2collection_ini.map(water_var_GPR).select(currentModel['veg_index'])\n",
        "del currentwatervariable\n",
        "del currentModel "
      ],
      "metadata": {
        "id": "6-om1s_kiQnp"
      },
      "execution_count": 57,
      "outputs": []
    },
    {
      "cell_type": "markdown",
      "source": [
        "Creating the retrieved image collection by applying parametric indices"
      ],
      "metadata": {
        "id": "9KJALk-37Mz4"
      }
    },
    {
      "cell_type": "code",
      "source": [
        "# Add the Chlorophyll band to the image collection\n",
        "S2_PI_CHL_collection = S2collection_ini.map(addCHLROS2).select('chlro')\n",
        "\n",
        "# Add Phycocyanin band to the image collection\n",
        "S2_PI_PC_collection = S2collection_ini.map(addFICOS2).map(S2maskPC).select('fico')\n",
        "\n",
        "# Add Secchi Disc Band band to the image collection\n",
        "S2_PI_SDD_collection = S2collection_ini.map(addSECCHIS2).select('Secchi')"
      ],
      "metadata": {
        "id": "2hfKdt3kFLDg"
      },
      "execution_count": 58,
      "outputs": []
    },
    {
      "cell_type": "markdown",
      "source": [
        "S2 image collection to a numpy array conversion"
      ],
      "metadata": {
        "id": "Z_xHZwWFPL4j"
      }
    },
    {
      "cell_type": "code",
      "source": [
        "# GPR image collections conversion\n",
        "\n",
        "S2_GPR_CHL_image = S2_GPR_CHL_collection.toBands().unmask(0); \n",
        "S2_GPR_CHL_image_nparray = geemap.ee_to_numpy(ee_object = S2_GPR_CHL_image.toArray(), region=roi, default_value=None)\n",
        "\n",
        "S2_GPR_PC_image = S2_GPR_PC_collection.toBands().unmask(0);\n",
        "S2_GPR_PC_image_nparray = geemap.ee_to_numpy(ee_object = S2_GPR_PC_image.toArray(), region=roi, default_value=None)\n",
        "\n",
        "S2_GPR_SDD_image = S2_GPR_SDD_collection.toBands().unmask(0);\n",
        "S2_GPR_SDD_image_nparray = geemap.ee_to_numpy(ee_object = S2_GPR_SDD_image.toArray(), region=roi, default_value=None)\n",
        "\n",
        "# PI image collections conversion\n",
        "\n",
        "S2_PI_CHL_image = S2_PI_CHL_collection.toBands().unmask(0);\n",
        "S2_PI_CHL_image_nparray = geemap.ee_to_numpy(ee_object = S2_PI_CHL_image.toArray(), region=roi, default_value=None)\n",
        "\n",
        "S2_PI_PC_image = S2_PI_PC_collection.toBands().unmask(0);\n",
        "S2_PI_PC_image_nparray = geemap.ee_to_numpy(ee_object = S2_PI_PC_image.toArray(), region=roi, default_value=None)\n",
        "\n",
        "S2_PI_SDD_image = S2_PI_SDD_collection.toBands().unmask(0);\n",
        "S2_PI_SDD_image_nparray = geemap.ee_to_numpy(ee_object = S2_PI_SDD_image.toArray(), region=roi, default_value=None)\n",
        "\n",
        "print('S2 ROI Dimension')\n",
        "print(S2_GPR_CHL_image_nparray.shape)"
      ],
      "metadata": {
        "id": "x-1zhQGKPMQQ"
      },
      "execution_count": null,
      "outputs": []
    },
    {
      "cell_type": "code",
      "source": [
        "# GPR numpy array images parcel mean calculations\n",
        "\n",
        "S2_GPR_CHL_parcel_mean = S2_GPR_CHL_image_nparray.mean(axis=1).mean(axis=0)\n",
        "S2_GPR_CHL_parcel_std = np.std(S2_GPR_CHL_parcel_mean, axis=0)\n",
        "\n",
        "S2_GPR_PC_parcel_mean = S2_GPR_PC_image_nparray.mean(axis=1).mean(axis=0)\n",
        "S2_GPR_PC_parcel_std = np.std(S2_GPR_PC_parcel_mean, axis=0)\n",
        "\n",
        "S2_GPR_SDD_parcel_mean = S2_GPR_SDD_image_nparray.mean(axis=1).mean(axis=0)\n",
        "S2_GPR_SDD_parcel_std = np.std(S2_GPR_SDD_parcel_mean, axis=0)\n",
        "\n",
        "# PI numpy array images parcel mean calculations\n",
        "\n",
        "S2_PI_CHL_parcel_mean = S2_PI_CHL_image_nparray.mean(axis=1).mean(axis=0)\n",
        "S2_PI_CHL_parcel_std = np.std(S2_PI_CHL_parcel_mean, axis=0)\n",
        "\n",
        "S2_PI_PC_parcel_mean = S2_PI_PC_image_nparray.mean(axis=1).mean(axis=0)\n",
        "S2_PI_PC_parcel_std = np.std(S2_PI_PC_parcel_mean, axis=0)\n",
        "\n",
        "S2_PI_SDD_parcel_mean = S2_PI_SDD_image_nparray.mean(axis=1).mean(axis=0)\n",
        "S2_PI_SDD_parcel_std = np.std(S2_PI_SDD_parcel_mean, axis=0)"
      ],
      "metadata": {
        "id": "zv3TvZc4uaTb"
      },
      "execution_count": 59,
      "outputs": []
    },
    {
      "cell_type": "markdown",
      "source": [
        "S2 time-series plotting"
      ],
      "metadata": {
        "id": "1AvkN7tifKVY"
      }
    },
    {
      "cell_type": "code",
      "source": [
        "#Comparative Graphs\n",
        "\n",
        "axmaxloc = S2_PI_CHL_image_nparray.shape[2]/4;\n",
        "axminloc = S2_PI_CHL_image_nparray.shape[2]/4;\n",
        "\n",
        "# Sentinel 2 Chlorophyll parametric index model vs GPR model time series plotting \n",
        "\n",
        "plt.figure(figsize= (16,4))\n",
        "ax = plt.axes()\n",
        "ax.xaxis.set_major_locator(ticker.MultipleLocator(axmaxloc))\n",
        "ax.xaxis.set_minor_locator(ticker.MultipleLocator(axminloc))\n",
        "ax.xaxis.set_major_formatter(mdates.DateFormatter('%Y-%m-%d'))\n",
        "\n",
        "plt.plot(Dates_S2,S2_PI_CHL_parcel_mean,linestyle=\"--\",marker=\"o\",markerfacecolor='c',markeredgecolor='k',markersize=6,lw=3,label='S2 Chl-a parametric model')\n",
        "plt.fill_between(Dates_S2, S2_PI_CHL_parcel_mean-S2_PI_CHL_parcel_std,S2_PI_CHL_parcel_mean+S2_PI_CHL_parcel_std ,alpha=0.25,color='grey',label='S2 Chl-a (index) + 1*std')\n",
        "plt.plot(Dates_S2,S2_GPR_CHL_parcel_mean,linestyle=\"--\",marker=\"o\",markerfacecolor='m',markeredgecolor='k',markersize=6,lw=3,label='S2 Chl-a GPR model')\n",
        "plt.fill_between(Dates_S2, S2_GPR_CHL_parcel_mean-S2_GPR_CHL_parcel_std,S2_GPR_CHL_parcel_mean+S2_GPR_CHL_parcel_std ,alpha=0.25,color='green',label='S2 Chl-a (GPR) + 1*std')\n",
        "#plt.title('S2 Chlorophyll ROI comparison')\n",
        "plt.legend()\n",
        "plt.grid(1)\n",
        "plt.ylabel('Chlorophyll [$\\mu$g $L^{-1}$]',fontsize='14')\n",
        "plt.grid(1)\n",
        "plt.xticks(rotation=45, ha='right')\n",
        "plt.show()\n",
        "\n",
        "# Sentinel 2 Phycocyanin parametric index model vs GPR model time series plotting \n",
        "\n",
        "plt.figure(figsize= (16,4))\n",
        "ax = plt.axes()\n",
        "ax.xaxis.set_major_locator(ticker.MultipleLocator(axmaxloc))\n",
        "ax.xaxis.set_minor_locator(ticker.MultipleLocator(axminloc))\n",
        "ax.xaxis.set_major_formatter(mdates.DateFormatter('%Y-%m-%d'))\n",
        "\n",
        "plt.plot(Dates_S2,S2_PI_PC_parcel_mean,linestyle=\"--\",marker=\"o\",markerfacecolor='r',markeredgecolor='k',markersize=6,lw=3,label='S2 PC parametric model')\n",
        "plt.fill_between(Dates_S2, S2_PI_PC_parcel_mean-S2_PI_PC_parcel_std,S2_PI_PC_parcel_mean+S2_PI_PC_parcel_std ,alpha=0.25,color='grey',label='S2 PC (index) + 1*std')\n",
        "plt.plot(Dates_S2,S2_GPR_PC_parcel_mean,linestyle=\"--\",marker=\"o\",markerfacecolor='y',markeredgecolor='k',markersize=6,lw=3,label='S2 PC GPR model')\n",
        "plt.fill_between(Dates_S2, S2_GPR_PC_parcel_mean-S2_GPR_PC_parcel_std,S2_GPR_PC_parcel_mean+S2_GPR_PC_parcel_std ,alpha=0.25,color='blue',label='S2 PC (GPR) + 1*std')\n",
        "#plt.title('S2 Phycocyanin ROI comparison')\n",
        "plt.legend()\n",
        "plt.grid(1)\n",
        "plt.ylabel('Phycocyanin [$\\mu$g $L^{-1}$]',fontsize='14')\n",
        "plt.grid(1)\n",
        "plt.xticks(rotation=45, ha='right')\n",
        "plt.show()\n",
        "\n",
        "# Sentinel 2 Secchi Disk Depth parametric index model vs GPR model time series plotting \n",
        "\n",
        "plt.figure(figsize= (16,4))\n",
        "ax = plt.axes()\n",
        "ax.xaxis.set_major_locator(ticker.MultipleLocator(axmaxloc))\n",
        "ax.xaxis.set_minor_locator(ticker.MultipleLocator(axminloc))\n",
        "ax.xaxis.set_major_formatter(mdates.DateFormatter('%Y-%m-%d'))\n",
        "\n",
        "plt.plot(Dates_S2,S2_PI_SDD_parcel_mean,linestyle=\"--\",marker=\"o\",markerfacecolor='white',markeredgecolor='k',markersize=6,lw=3,label='S2 SDD parametric model')\n",
        "plt.fill_between(Dates_S2, S2_PI_SDD_parcel_mean-S2_PI_SDD_parcel_std,S2_PI_SDD_parcel_mean+S2_PI_SDD_parcel_std ,alpha=0.25,color='grey',label='S2 SDD (index) + 1*std')\n",
        "plt.plot(Dates_S2,S2_GPR_SDD_parcel_mean,linestyle=\"--\",marker=\"o\",markerfacecolor='blue',markeredgecolor='k',markersize=6,lw=3,label='S2 SDD GPR model')\n",
        "plt.fill_between(Dates_S2, S2_GPR_SDD_parcel_mean-S2_GPR_SDD_parcel_std,S2_GPR_SDD_parcel_mean+S2_GPR_SDD_parcel_std ,alpha=0.25,color='red',label='S2 SDD (GPR) + 1*std')\n",
        "#plt.title('S2 Secchi disc depth ROI comparison')\n",
        "plt.legend()\n",
        "plt.grid(1)\n",
        "plt.ylabel('Secchi disc depth [m]',fontsize='14')\n",
        "plt.grid(1)\n",
        "plt.xticks(rotation=45, ha='right')\n",
        "plt.show()"
      ],
      "metadata": {
        "id": "W4qzu9TZzzxU"
      },
      "execution_count": null,
      "outputs": []
    },
    {
      "cell_type": "markdown",
      "source": [
        "**Water parameter mapping**"
      ],
      "metadata": {
        "id": "91v73KlVfajA"
      }
    },
    {
      "cell_type": "code",
      "source": [
        "palette_PC = cm.get_palette('viridis', n_class=10)\n",
        "vis_PC = {'min': 0, 'max': 1200, 'palette': palette_PC}\n",
        "cm.plot_colormap('viridis', width=8.0, height=0.4, orientation='horizontal')"
      ],
      "metadata": {
        "id": "4AoNZhAAq-Z3"
      },
      "execution_count": null,
      "outputs": []
    },
    {
      "cell_type": "code",
      "source": [
        "palette_CHL = cm.get_palette('gist_rainbow_r', n_class=10)\n",
        "vis_CHL = {'min': 0, 'max': 300, 'palette': palette_CHL}\n",
        "cm.plot_colormap('gist_rainbow_r', width=8.0, height=0.4, orientation='horizontal')"
      ],
      "metadata": {
        "id": "q_ENaVk1rbIO"
      },
      "execution_count": null,
      "outputs": []
    },
    {
      "cell_type": "code",
      "source": [
        "palette_SDD = cm.get_palette('cool_r', n_class=10)\n",
        "vis_SDD = {'min': 0.25, 'max': 0.45, 'palette': palette_SDD}\n",
        "cm.plot_colormap('cool_r', width=8.0, height=0.4, orientation='horizontal')"
      ],
      "metadata": {
        "id": "gk76lpMyZID-"
      },
      "execution_count": null,
      "outputs": []
    },
    {
      "cell_type": "code",
      "source": [
        "# Map display parameters definition (RGB S2 image)\n",
        "vizParams = {\n",
        "  'bands': ['B4', 'B3', 'B2'],\n",
        "  'min': 0,\n",
        "  'max': 0.2,\n",
        "}\n",
        "#cm.list_colormaps()"
      ],
      "metadata": {
        "id": "CloXYuFjwewO"
      },
      "execution_count": 64,
      "outputs": []
    },
    {
      "cell_type": "code",
      "source": [
        "u_lat = 39.34\n",
        "u_lon = -0.35\n",
        "\n",
        "Map_S2 = geemap.Map()\n",
        "Map_S2 = geemap.Map(center=(u_lat,u_lon), zoom=13)\n",
        "Map_S2.set_plot_options(add_marker_cluster=True)\n",
        "Map_S2"
      ],
      "metadata": {
        "id": "maf4pektXo9e"
      },
      "execution_count": null,
      "outputs": []
    },
    {
      "cell_type": "code",
      "source": [
        "# S2-based water ecological parameters map display\n",
        "\n",
        "image_number = 212 # select the ordinal number of the image you want to be displayed\n",
        "\n",
        "# Converting the S2 image collection to an image list for RGB scene display\n",
        "S2collection_list = S2collection_raw.toList(S2collection_raw.size());\n",
        "S2image = ee.Image(S2collection_list.get(image_number));\n",
        "\n",
        "# S2 RGB image display\n",
        "\n",
        "Map_S2.addLayer(S2image, vizParams,'S2 RGB composite')\n",
        "\n",
        "# Single variable display\n",
        "\n",
        "S2_GPR_CHL_image = S2_GPR_CHL_collection.toBands()\n",
        "S2_GPR_PC_image = S2_GPR_PC_collection.toBands()\n",
        "S2_GPR_SDD_image = S2_GPR_SDD_collection.toBands()\n",
        "S2_PI_CHL_image = S2_PI_CHL_collection.toBands()\n",
        "S2_PI_PC_image = S2_PI_PC_collection.toBands()\n",
        "S2_PI_SDD_image = S2_PI_SDD_collection.toBands()\n",
        "\n",
        "Map_S2.addLayer(S2_GPR_CHL_image.select(image_number),vis_CHL, 'S2 GPR CHL')\n",
        "#Map_S2.addLayer(S2_GPR_PC_image.select(image_number),vis_PC, 'S2 GPR PC')\n",
        "#Map_S2.addLayer(S2_GPR_SDD_image.select(image_number),vis_PC, 'S2 GPR SDD')\n",
        "#Map_S2.addLayer(S2_PI_CHL_image.select(image_number),vis_CHL, 'S2 PI CHL')\n",
        "#Map_S2.addLayer(S2_PI_PC_image.select(image_number),vis_PC, 'S2 PI PC')\n",
        "#Map_S2.addLayer(S2_PI_SDD_image.select(image_number),vis_SDD, 'S2 PI SDD')\n",
        "\n",
        "# Variables collection display (mean, max or min).\n",
        "\n",
        "#Map_S2.addLayer(S2_GPR_CHL_collection.mean(),vis_CHL, 'S2 GPR CHL collection')\n",
        "#Map_S2.addLayer(S2_GPR_PC_collection.mean(),vis_PC, 'S2 GPR PC collection')\n",
        "#Map_S2.addLayer(S2_GPR_SDD_collection.mean(),vis_SDD, 'S2 GPR SDD collection')\n",
        "#Map_S2.addLayer(S2_PI_CHL_collection.mean(),vis_CHL, 'S2 PI CHL collection')\n",
        "#Map_S2.addLayer(S2_PI_PC_collection.mean(),vis_PC, 'S2 PI PC collection')\n",
        "#Map_S2.addLayer(S2_PI_SDD_collection.mean(),vis_SDD, 'S2 PI SDD collection')\n",
        "\n",
        "# On-screen display of variable time sliders\n",
        "\n",
        "#Map_S2.add_time_slider(S2_GPR_CHL_collection ,vis_CHL, region=roi_Albufera,layer_name='S2 GPR CHL time-series',labels=labels_S2, time_interval=1)\n",
        "#Map_S2.add_time_slider(S2_GPR_PC_collection ,vis_PC, region=roi_Albufera,layer_name='S2 GPR PC time-series',labels=labels_S2, time_interval=1)\n",
        "#Map_S2.add_time_slider(S2_GPR_SDD_collection ,vis_SDD, region=roi_Albufera,layer_name='S2 GPR SDD time-series',labels=labels_S2, time_interval=1)\n",
        "#Map_S2.add_time_slider(S2_PI_CHL_collection ,vis_CHL, region=roi_Albufera,layer_name='S2 PI CHL time-series',labels=labels_S2, time_interval=1)\n",
        "#Map_S2.add_time_slider(S2_PI_PC_collection ,vis_PC, region=roi_Albufera,layer_name='S2 PI PC time-series',labels=labels_S2, time_interval=1)\n",
        "#Map_S2.add_time_slider(S2_PI_SDD_collection ,vis_SDD, region=roi_Albufera,layer_name='S2 PI SDD time-series',labels=labels_S2, time_interval=1)\n",
        "\n",
        "# On-screen display of vectorial layers\n",
        "\n",
        "Map_S2.addLayer(roi_Albufera, {},'Albufera ROI',opacity = 0.3)\n",
        "#Map_S2.addLayer(roi, {},'ROI')\n",
        "\n",
        "# On-screen display of color bars\n",
        "\n",
        "Map_S2.add_colorbar(vis_CHL, label=\"CHL ($\\mu$g $L^{-1}$)\", orientation=\"horizontal\", layer_name=\"barato color bar\")\n",
        "#Map_S2.add_colorbar(vis_PC, label=\"PC ($\\mu$g $L^{-1}$)\", orientation=\"horizontal\", layer_name=\"PC color bar\")\n",
        "#Map_S2.add_colorbar(vis_SDD, label=\"SDD (m)\", orientation=\"horizontal\", layer_name=\"SDD color bar\")"
      ],
      "metadata": {
        "id": "4JRO6KkeZP5F"
      },
      "execution_count": 66,
      "outputs": []
    },
    {
      "cell_type": "markdown",
      "source": [
        "Water ecological variables mean (Whole Albufera) "
      ],
      "metadata": {
        "id": "gDEtemNiLL_d"
      }
    },
    {
      "cell_type": "code",
      "source": [
        "# Chart *series*\n",
        "test_site = roi_Albufera\n",
        "chart_ts_GPR_Chl = ui.chart.Image.series(**{\n",
        "    'imageCollection': S2_GPR_CHL_collection, \n",
        "    'region': test_site,\n",
        "    'scale': 20,\n",
        "    'reducer': ee.Reducer.mean(),\n",
        "    'xProperty': 'system:time_start', \n",
        "    'system':'index',\n",
        "    'bands': ['Chl'],\n",
        "    'labels': ['Date','Chl-a']\n",
        "})\n",
        "\n",
        "chart_ts_GPR_Chl.renderWidget()  # for Jupyter Notebook or Lab"
      ],
      "metadata": {
        "id": "Gs14qY6A6mGl"
      },
      "execution_count": null,
      "outputs": []
    },
    {
      "cell_type": "code",
      "source": [
        "chart_ts_PI_Chl = ui.chart.Image.series(**{\n",
        "    'imageCollection': S2_PI_CHL_collection, \n",
        "    'region': test_site,\n",
        "    'scale': 20,\n",
        "    'reducer': ee.Reducer.mean(),\n",
        "    'xProperty': 'system:time_start',\n",
        "    'bands': ['chlro'],\n",
        "    'labels': ['Date','Chl-a']\n",
        "})\n",
        "\n",
        "chart_ts_PI_Chl.renderWidget()  # for Jupyter Notebook or Lab"
      ],
      "metadata": {
        "id": "oMqdkI72zdn0"
      },
      "execution_count": null,
      "outputs": []
    },
    {
      "cell_type": "code",
      "source": [
        "# Chart *series*\n",
        "chart_ts_GPR_PC = ui.chart.Image.series(**{\n",
        "    'imageCollection': S2_GPR_PC_collection, \n",
        "    'region': test_site,\n",
        "    'scale': 20,\n",
        "    'reducer': ee.Reducer.mean(),\n",
        "    'xProperty': 'system:time_start', \n",
        "    'system':'index',\n",
        "    'bands': ['PC'],\n",
        "    'labels': ['Date','PC']\n",
        "})\n",
        "\n",
        "chart_ts_GPR_PC.renderWidget()  # for Jupyter Notebook or Lab"
      ],
      "metadata": {
        "id": "WHK8p54oN263"
      },
      "execution_count": null,
      "outputs": []
    },
    {
      "cell_type": "code",
      "source": [
        "chart_ts_PI_PC = ui.chart.Image.series(**{\n",
        "    'imageCollection': S2_PI_PC_collection, \n",
        "    'region': test_site,\n",
        "    'scale': 20,\n",
        "    'reducer': ee.Reducer.mean(),\n",
        "    'bands': ['fico'],\n",
        "    'labels': ['Date','PC']\n",
        "})\n",
        "\n",
        "chart_ts_PI_PC.renderWidget()  # for Jupyter Notebook or Lab"
      ],
      "metadata": {
        "id": "7XUEVzvG4ARX"
      },
      "execution_count": null,
      "outputs": []
    },
    {
      "cell_type": "code",
      "source": [
        "# Chart *series*\n",
        "chart_ts_GPR_SDD = ui.chart.Image.series(**{\n",
        "    'imageCollection': S2_GPR_SDD_collection, \n",
        "    'region': test_site,\n",
        "    'scale': 300,\n",
        "    'reducer': ee.Reducer.mean(),\n",
        "    'xProperty': 'system:time_start',\n",
        "    'bands': ['ZSD'],\n",
        "    'labels': ['Date','SDD']\n",
        "})\n",
        "\n",
        "chart_ts_GPR_SDD.renderWidget()  # for Jupyter Notebook or Lab"
      ],
      "metadata": {
        "id": "wmAB9YHpOA7e"
      },
      "execution_count": null,
      "outputs": []
    },
    {
      "cell_type": "code",
      "source": [
        "# Chart *series*\n",
        "chart_ts_PI_SDD = ui.chart.Image.series(**{\n",
        "    'imageCollection': S2_PI_SDD_collection, \n",
        "    'region': test_site,\n",
        "    'scale': 300,\n",
        "    'reducer': ee.Reducer.mean(),\n",
        "    'xProperty': 'system:time_start',\n",
        "    'bands': ['Secchi'],\n",
        "    'labels': ['Date','SDD']\n",
        "})\n",
        "\n",
        "chart_ts_PI_SDD.renderWidget()  # for Jupyter Notebook or Lab"
      ],
      "metadata": {
        "id": "uYW0t2I9I9dg"
      },
      "execution_count": null,
      "outputs": []
    },
    {
      "cell_type": "code",
      "source": [
        "# Water ecological variables time series plotting - Albufera mask\n",
        "\n",
        "df_GPR_chl = chart_ts_GPR_Chl.dataframe\n",
        "df_index_chl = chart_ts_PI_Chl.dataframe\n",
        "\n",
        "df_GPR_PC = chart_ts_GPR_PC.dataframe\n",
        "df_index_PC = chart_ts_PI_PC.dataframe\n",
        "\n",
        "df_GPR_SDD = chart_ts_GPR_SDD.dataframe\n",
        "df_PI_SDD = chart_ts_PI_SDD.dataframe\n",
        "\n",
        "plt.figure(figsize= (16,4))\n",
        "ax = plt.axes()\n",
        "ax.xaxis.set_major_locator(ticker.MultipleLocator(axmaxloc))\n",
        "ax.xaxis.set_minor_locator(ticker.MultipleLocator(axminloc))\n",
        "ax.xaxis.set_major_formatter(mdates.DateFormatter('%Y-%m-%d'))\n",
        "df_GPR_chl.plot(y='Chl', kind='line',figsize=(16,4),color='green', ax=ax,linestyle=\"--\",marker=\"o\",markerfacecolor='m',markeredgecolor='k',markersize=6,lw=3,label='S2 Chl-a GPR model');\n",
        "df_index_chl.plot(y='chlro', kind='line',figsize=(16,4),lw=3,color='black', ax=ax,linestyle=\"--\",marker=\"o\",markerfacecolor='c',markeredgecolor='k',markersize=6,label='S2 Chl-a parametric model');\n",
        "plt.legend()\n",
        "plt.ylabel('Chlorophyll [$\\mu$g $L^{-1}$]',fontsize='14')\n",
        "plt.grid(1)\n",
        "plt.xticks(rotation=45, ha='right')\n",
        "plt.show()\n",
        "\n",
        "plt.figure(figsize= (16,4))\n",
        "ax = plt.axes()\n",
        "ax.xaxis.set_major_locator(ticker.MultipleLocator(axmaxloc))\n",
        "ax.xaxis.set_minor_locator(ticker.MultipleLocator(axminloc))\n",
        "ax.xaxis.set_major_formatter(mdates.DateFormatter('%Y-%m-%d'))\n",
        "df_GPR_PC.plot(y='PC', kind='line',figsize=(16,4),color='orange', ax=ax,linestyle=\"--\",marker=\"o\",markerfacecolor='r',markeredgecolor='k',markersize=6,lw=3,label='S2 PC GPR model');\n",
        "df_index_PC.plot(y='fico', kind='line',figsize=(16,4),lw=3,color='blue', ax=ax,linestyle=\"--\",marker=\"o\",markerfacecolor='y',markeredgecolor='k',markersize=6,label='S2 PC parametric model');\n",
        "plt.legend()\n",
        "plt.ylabel('Phycocyanin [$\\mu$g $L^{-1}$]',fontsize='14')\n",
        "plt.grid(1)\n",
        "plt.xticks(rotation=45, ha='right')\n",
        "plt.show()\n",
        "\n",
        "plt.figure(figsize= (16,4))\n",
        "ax = plt.axes()\n",
        "ax.xaxis.set_major_locator(ticker.MultipleLocator(axmaxloc))\n",
        "ax.xaxis.set_minor_locator(ticker.MultipleLocator(axminloc))\n",
        "ax.xaxis.set_major_formatter(mdates.DateFormatter('%Y-%m-%d'))\n",
        "df_GPR_SDD.plot(y='ZSD', kind='line',figsize=(16,4),color='grey', ax=ax,linestyle=\"--\",marker=\"o\",markerfacecolor='orange',markeredgecolor='k',markersize=6,lw=3,label='S2 SDD GPR model');\n",
        "df_PI_SDD.plot(y='Secchi', kind='line',figsize=(16,4),lw=3,color='skyblue', ax=ax,linestyle=\"--\",marker=\"o\",markerfacecolor='g',markeredgecolor='k',markersize=6,label='S2 SDD parametric model');\n",
        "plt.legend()\n",
        "plt.ylabel('Secchi Disc Depth [m]',fontsize='14')\n",
        "plt.grid(1)\n",
        "plt.xticks(rotation=45, ha='right')\n",
        "plt.show()"
      ],
      "metadata": {
        "id": "CvY5LfRfBJXT"
      },
      "execution_count": null,
      "outputs": []
    },
    {
      "cell_type": "markdown",
      "source": [
        "## Macrophytes detection"
      ],
      "metadata": {
        "id": "7pNFU9LL9u6x"
      }
    },
    {
      "cell_type": "code",
      "source": [
        "# Add NDWI_mask band to an image collection\n",
        "NDWI_collection = S2collection_raw.map(addNDWI).select('NDWI').map(clipcol)\n",
        "S2_NDWI_mask_image = NDWI_collection.toBands() # Use this option if you want to unmask the land surface surrounding the lagoon\n",
        "#S2_NDWI_mask_image = NDWI_collection.toBands().unmask(0);"
      ],
      "metadata": {
        "id": "IKl2-bc9tIC5"
      },
      "execution_count": null,
      "outputs": []
    },
    {
      "cell_type": "code",
      "source": [
        "palette_NDWI = cm.get_palette('gist_rainbow', n_class=10)\n",
        "vis_NDWI = {'min': -1, 'max': 0, 'palette': palette_NDWI}\n",
        "cm.plot_colormap('gist_rainbow', width=8.0, height=0.4, orientation='horizontal')"
      ],
      "metadata": {
        "id": "LoyB7lpDuuWE"
      },
      "execution_count": null,
      "outputs": []
    },
    {
      "cell_type": "code",
      "source": [
        "u_lat = 39.34\n",
        "u_lon = -0.35\n",
        "\n",
        "Map_S2_NDWI = geemap.Map()\n",
        "Map_S2_NDWI = geemap.Map(center=(u_lat,u_lon), zoom=13)\n",
        "Map_S2_NDWI.set_plot_options(add_marker_cluster=True)\n",
        "Map_S2_NDWI"
      ],
      "metadata": {
        "id": "SpW6eyBo3-tY"
      },
      "execution_count": null,
      "outputs": []
    },
    {
      "cell_type": "code",
      "source": [
        "Map_S2_NDWI.addLayer(roi_Albufera, {},'Albufera ROI',opacity = 0.7)\n",
        "Map_S2_NDWI.addLayer(S2image, vizParams,'S2 RGB composite')\n",
        "#Map_S2_2.add_time_slider(NDWI_collection ,vis_NDWI, region=roi_Albufera,layer_name='S2 NDWI Time-series',labels=labels_S2, time_interval=1)\n",
        "Map_S2_NDWI.addLayer(S2_NDWI_mask_image.select(212),vis_NDWI,'S2 NDWI')\n",
        "Map_S2_NDWI.add_colorbar(vis_NDWI, label=\"NDWI\", orientation=\"horizontal\", layer_name=\"NDWI\")"
      ],
      "metadata": {
        "id": "jbFM8piQ4uQu"
      },
      "execution_count": null,
      "outputs": []
    }
  ]
}