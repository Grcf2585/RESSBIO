{
  "nbformat": 4,
  "nbformat_minor": 0,
  "metadata": {
    "colab": {
      "provenance": [],
      "authorship_tag": "ABX9TyMDoYoqnUNe04kbpyw6R9WP",
      "include_colab_link": true
    },
    "kernelspec": {
      "name": "python3",
      "display_name": "Python 3"
    },
    "language_info": {
      "name": "python"
    }
  },
  "cells": [
    {
      "cell_type": "markdown",
      "metadata": {
        "id": "view-in-github",
        "colab_type": "text"
      },
      "source": [
        "<a href=\"https://colab.research.google.com/github/Grcf2585/RESSBIO/blob/S2-based-water-parameters-retrieval/S2_water_index.ipynb\" target=\"_parent\"><img src=\"https://colab.research.google.com/assets/colab-badge.svg\" alt=\"Open In Colab\"/></a>"
      ]
    },
    {
      "cell_type": "markdown",
      "source": [
        "**Install the required libraries**"
      ],
      "metadata": {
        "id": "i-FhTBkAK4ez"
      }
    },
    {
      "cell_type": "code",
      "execution_count": 1,
      "metadata": {
        "id": "dWhHqnjBKz2S",
        "outputId": "4aca6ddb-7ced-483d-c026-2bcf65ae95fd",
        "colab": {
          "base_uri": "https://localhost:8080/"
        }
      },
      "outputs": [
        {
          "output_type": "stream",
          "name": "stdout",
          "text": [
            "Looking in indexes: https://pypi.org/simple, https://us-python.pkg.dev/colab-wheels/public/simple/\n",
            "Collecting geemap\n",
            "  Downloading geemap-0.20.6-py2.py3-none-any.whl (2.2 MB)\n",
            "\u001b[2K     \u001b[90m━━━━━━━━━━━━━━━━━━━━━━━━━━━━━━━━━━━━━━━━\u001b[0m \u001b[32m2.2/2.2 MB\u001b[0m \u001b[31m28.6 MB/s\u001b[0m eta \u001b[36m0:00:00\u001b[0m\n",
            "\u001b[?25hCollecting bqplot (from geemap)\n",
            "  Downloading bqplot-0.12.39-py2.py3-none-any.whl (1.2 MB)\n",
            "\u001b[2K     \u001b[90m━━━━━━━━━━━━━━━━━━━━━━━━━━━━━━━━━━━━━━━━\u001b[0m \u001b[32m1.2/1.2 MB\u001b[0m \u001b[31m46.0 MB/s\u001b[0m eta \u001b[36m0:00:00\u001b[0m\n",
            "\u001b[?25hCollecting colour (from geemap)\n",
            "  Downloading colour-0.1.5-py2.py3-none-any.whl (23 kB)\n",
            "Requirement already satisfied: earthengine-api>=0.1.347 in /usr/local/lib/python3.10/dist-packages (from geemap) (0.1.350)\n",
            "Collecting eerepr>=0.0.4 (from geemap)\n",
            "  Downloading eerepr-0.0.4-py3-none-any.whl (9.7 kB)\n",
            "Requirement already satisfied: folium>=0.13.0 in /usr/local/lib/python3.10/dist-packages (from geemap) (0.14.0)\n",
            "Collecting geocoder (from geemap)\n",
            "  Downloading geocoder-1.38.1-py2.py3-none-any.whl (98 kB)\n",
            "\u001b[2K     \u001b[90m━━━━━━━━━━━━━━━━━━━━━━━━━━━━━━━━━━━━━━━━\u001b[0m \u001b[32m98.6/98.6 kB\u001b[0m \u001b[31m7.4 MB/s\u001b[0m eta \u001b[36m0:00:00\u001b[0m\n",
            "\u001b[?25hCollecting ipyevents (from geemap)\n",
            "  Downloading ipyevents-2.0.1-py2.py3-none-any.whl (130 kB)\n",
            "\u001b[2K     \u001b[90m━━━━━━━━━━━━━━━━━━━━━━━━━━━━━━━━━━━━━━━\u001b[0m \u001b[32m130.5/130.5 kB\u001b[0m \u001b[31m8.7 MB/s\u001b[0m eta \u001b[36m0:00:00\u001b[0m\n",
            "\u001b[?25hCollecting ipyfilechooser>=0.6.0 (from geemap)\n",
            "  Downloading ipyfilechooser-0.6.0-py3-none-any.whl (11 kB)\n",
            "Collecting ipyleaflet>=0.17.0 (from geemap)\n",
            "  Downloading ipyleaflet-0.17.2-py3-none-any.whl (3.7 MB)\n",
            "\u001b[2K     \u001b[90m━━━━━━━━━━━━━━━━━━━━━━━━━━━━━━━━━━━━━━━━\u001b[0m \u001b[32m3.7/3.7 MB\u001b[0m \u001b[31m39.3 MB/s\u001b[0m eta \u001b[36m0:00:00\u001b[0m\n",
            "\u001b[?25hCollecting ipytree (from geemap)\n",
            "  Downloading ipytree-0.2.2-py2.py3-none-any.whl (1.3 MB)\n",
            "\u001b[2K     \u001b[90m━━━━━━━━━━━━━━━━━━━━━━━━━━━━━━━━━━━━━━━━\u001b[0m \u001b[32m1.3/1.3 MB\u001b[0m \u001b[31m28.4 MB/s\u001b[0m eta \u001b[36m0:00:00\u001b[0m\n",
            "\u001b[?25hRequirement already satisfied: matplotlib in /usr/local/lib/python3.10/dist-packages (from geemap) (3.7.1)\n",
            "Requirement already satisfied: numpy in /usr/local/lib/python3.10/dist-packages (from geemap) (1.22.4)\n",
            "Requirement already satisfied: pandas in /usr/local/lib/python3.10/dist-packages (from geemap) (1.5.3)\n",
            "Requirement already satisfied: plotly in /usr/local/lib/python3.10/dist-packages (from geemap) (5.13.1)\n",
            "Collecting pyperclip (from geemap)\n",
            "  Downloading pyperclip-1.8.2.tar.gz (20 kB)\n",
            "  Preparing metadata (setup.py) ... \u001b[?25l\u001b[?25hdone\n",
            "Collecting python-box (from geemap)\n",
            "  Downloading python_box-7.0.1-cp310-cp310-manylinux_2_5_x86_64.manylinux1_x86_64.manylinux_2_12_x86_64.manylinux2010_x86_64.whl (3.2 MB)\n",
            "\u001b[2K     \u001b[90m━━━━━━━━━━━━━━━━━━━━━━━━━━━━━━━━━━━━━━━━\u001b[0m \u001b[32m3.2/3.2 MB\u001b[0m \u001b[31m45.0 MB/s\u001b[0m eta \u001b[36m0:00:00\u001b[0m\n",
            "\u001b[?25hCollecting scooby (from geemap)\n",
            "  Downloading scooby-0.7.2-py3-none-any.whl (16 kB)\n",
            "Requirement already satisfied: google-cloud-storage in /usr/local/lib/python3.10/dist-packages (from earthengine-api>=0.1.347->geemap) (2.8.0)\n",
            "Requirement already satisfied: google-api-python-client>=1.12.1 in /usr/local/lib/python3.10/dist-packages (from earthengine-api>=0.1.347->geemap) (2.84.0)\n",
            "Requirement already satisfied: google-auth>=1.4.1 in /usr/local/lib/python3.10/dist-packages (from earthengine-api>=0.1.347->geemap) (2.17.3)\n",
            "Requirement already satisfied: google-auth-httplib2>=0.0.3 in /usr/local/lib/python3.10/dist-packages (from earthengine-api>=0.1.347->geemap) (0.1.0)\n",
            "Requirement already satisfied: httplib2<1dev,>=0.9.2 in /usr/local/lib/python3.10/dist-packages (from earthengine-api>=0.1.347->geemap) (0.21.0)\n",
            "Requirement already satisfied: requests in /usr/local/lib/python3.10/dist-packages (from earthengine-api>=0.1.347->geemap) (2.27.1)\n",
            "Requirement already satisfied: branca>=0.6.0 in /usr/local/lib/python3.10/dist-packages (from folium>=0.13.0->geemap) (0.6.0)\n",
            "Requirement already satisfied: jinja2>=2.9 in /usr/local/lib/python3.10/dist-packages (from folium>=0.13.0->geemap) (3.1.2)\n",
            "Requirement already satisfied: ipywidgets in /usr/local/lib/python3.10/dist-packages (from ipyfilechooser>=0.6.0->geemap) (7.7.1)\n",
            "Collecting traittypes<3,>=0.2.1 (from ipyleaflet>=0.17.0->geemap)\n",
            "  Downloading traittypes-0.2.1-py2.py3-none-any.whl (8.6 kB)\n",
            "Collecting xyzservices>=2021.8.1 (from ipyleaflet>=0.17.0->geemap)\n",
            "  Downloading xyzservices-2023.2.0-py3-none-any.whl (55 kB)\n",
            "\u001b[2K     \u001b[90m━━━━━━━━━━━━━━━━━━━━━━━━━━━━━━━━━━━━━━━━\u001b[0m \u001b[32m55.4/55.4 kB\u001b[0m \u001b[31m4.0 MB/s\u001b[0m eta \u001b[36m0:00:00\u001b[0m\n",
            "\u001b[?25hRequirement already satisfied: traitlets>=4.3.0 in /usr/local/lib/python3.10/dist-packages (from bqplot->geemap) (5.7.1)\n",
            "Requirement already satisfied: python-dateutil>=2.8.1 in /usr/local/lib/python3.10/dist-packages (from pandas->geemap) (2.8.2)\n",
            "Requirement already satisfied: pytz>=2020.1 in /usr/local/lib/python3.10/dist-packages (from pandas->geemap) (2022.7.1)\n",
            "Requirement already satisfied: click in /usr/local/lib/python3.10/dist-packages (from geocoder->geemap) (8.1.3)\n",
            "Requirement already satisfied: future in /usr/local/lib/python3.10/dist-packages (from geocoder->geemap) (0.18.3)\n",
            "Collecting ratelim (from geocoder->geemap)\n",
            "  Downloading ratelim-0.1.6-py2.py3-none-any.whl (4.0 kB)\n",
            "Requirement already satisfied: six in /usr/local/lib/python3.10/dist-packages (from geocoder->geemap) (1.16.0)\n",
            "Requirement already satisfied: contourpy>=1.0.1 in /usr/local/lib/python3.10/dist-packages (from matplotlib->geemap) (1.0.7)\n",
            "Requirement already satisfied: cycler>=0.10 in /usr/local/lib/python3.10/dist-packages (from matplotlib->geemap) (0.11.0)\n",
            "Requirement already satisfied: fonttools>=4.22.0 in /usr/local/lib/python3.10/dist-packages (from matplotlib->geemap) (4.39.3)\n",
            "Requirement already satisfied: kiwisolver>=1.0.1 in /usr/local/lib/python3.10/dist-packages (from matplotlib->geemap) (1.4.4)\n",
            "Requirement already satisfied: packaging>=20.0 in /usr/local/lib/python3.10/dist-packages (from matplotlib->geemap) (23.1)\n",
            "Requirement already satisfied: pillow>=6.2.0 in /usr/local/lib/python3.10/dist-packages (from matplotlib->geemap) (8.4.0)\n",
            "Requirement already satisfied: pyparsing>=2.3.1 in /usr/local/lib/python3.10/dist-packages (from matplotlib->geemap) (3.0.9)\n",
            "Requirement already satisfied: tenacity>=6.2.0 in /usr/local/lib/python3.10/dist-packages (from plotly->geemap) (8.2.2)\n",
            "Requirement already satisfied: google-api-core!=2.0.*,!=2.1.*,!=2.2.*,!=2.3.0,<3.0.0dev,>=1.31.5 in /usr/local/lib/python3.10/dist-packages (from google-api-python-client>=1.12.1->earthengine-api>=0.1.347->geemap) (2.11.0)\n",
            "Requirement already satisfied: uritemplate<5,>=3.0.1 in /usr/local/lib/python3.10/dist-packages (from google-api-python-client>=1.12.1->earthengine-api>=0.1.347->geemap) (4.1.1)\n",
            "Requirement already satisfied: cachetools<6.0,>=2.0.0 in /usr/local/lib/python3.10/dist-packages (from google-auth>=1.4.1->earthengine-api>=0.1.347->geemap) (5.3.0)\n",
            "Requirement already satisfied: pyasn1-modules>=0.2.1 in /usr/local/lib/python3.10/dist-packages (from google-auth>=1.4.1->earthengine-api>=0.1.347->geemap) (0.3.0)\n",
            "Requirement already satisfied: rsa<5,>=3.1.4 in /usr/local/lib/python3.10/dist-packages (from google-auth>=1.4.1->earthengine-api>=0.1.347->geemap) (4.9)\n",
            "Requirement already satisfied: ipykernel>=4.5.1 in /usr/local/lib/python3.10/dist-packages (from ipywidgets->ipyfilechooser>=0.6.0->geemap) (5.5.6)\n",
            "Requirement already satisfied: ipython-genutils~=0.2.0 in /usr/local/lib/python3.10/dist-packages (from ipywidgets->ipyfilechooser>=0.6.0->geemap) (0.2.0)\n",
            "Requirement already satisfied: widgetsnbextension~=3.6.0 in /usr/local/lib/python3.10/dist-packages (from ipywidgets->ipyfilechooser>=0.6.0->geemap) (3.6.4)\n",
            "Requirement already satisfied: ipython>=4.0.0 in /usr/local/lib/python3.10/dist-packages (from ipywidgets->ipyfilechooser>=0.6.0->geemap) (7.34.0)\n",
            "Requirement already satisfied: jupyterlab-widgets>=1.0.0 in /usr/local/lib/python3.10/dist-packages (from ipywidgets->ipyfilechooser>=0.6.0->geemap) (3.0.7)\n",
            "Requirement already satisfied: MarkupSafe>=2.0 in /usr/local/lib/python3.10/dist-packages (from jinja2>=2.9->folium>=0.13.0->geemap) (2.1.2)\n",
            "Requirement already satisfied: google-cloud-core<3.0dev,>=2.3.0 in /usr/local/lib/python3.10/dist-packages (from google-cloud-storage->earthengine-api>=0.1.347->geemap) (2.3.2)\n",
            "Requirement already satisfied: google-resumable-media>=2.3.2 in /usr/local/lib/python3.10/dist-packages (from google-cloud-storage->earthengine-api>=0.1.347->geemap) (2.5.0)\n",
            "Requirement already satisfied: urllib3<1.27,>=1.21.1 in /usr/local/lib/python3.10/dist-packages (from requests->earthengine-api>=0.1.347->geemap) (1.26.15)\n",
            "Requirement already satisfied: certifi>=2017.4.17 in /usr/local/lib/python3.10/dist-packages (from requests->earthengine-api>=0.1.347->geemap) (2022.12.7)\n",
            "Requirement already satisfied: charset-normalizer~=2.0.0 in /usr/local/lib/python3.10/dist-packages (from requests->earthengine-api>=0.1.347->geemap) (2.0.12)\n",
            "Requirement already satisfied: idna<4,>=2.5 in /usr/local/lib/python3.10/dist-packages (from requests->earthengine-api>=0.1.347->geemap) (3.4)\n",
            "Requirement already satisfied: decorator in /usr/local/lib/python3.10/dist-packages (from ratelim->geocoder->geemap) (4.4.2)\n",
            "Requirement already satisfied: googleapis-common-protos<2.0dev,>=1.56.2 in /usr/local/lib/python3.10/dist-packages (from google-api-core!=2.0.*,!=2.1.*,!=2.2.*,!=2.3.0,<3.0.0dev,>=1.31.5->google-api-python-client>=1.12.1->earthengine-api>=0.1.347->geemap) (1.59.0)\n",
            "Requirement already satisfied: protobuf!=3.20.0,!=3.20.1,!=4.21.0,!=4.21.1,!=4.21.2,!=4.21.3,!=4.21.4,!=4.21.5,<5.0.0dev,>=3.19.5 in /usr/local/lib/python3.10/dist-packages (from google-api-core!=2.0.*,!=2.1.*,!=2.2.*,!=2.3.0,<3.0.0dev,>=1.31.5->google-api-python-client>=1.12.1->earthengine-api>=0.1.347->geemap) (3.20.3)\n",
            "Requirement already satisfied: google-crc32c<2.0dev,>=1.0 in /usr/local/lib/python3.10/dist-packages (from google-resumable-media>=2.3.2->google-cloud-storage->earthengine-api>=0.1.347->geemap) (1.5.0)\n",
            "Requirement already satisfied: jupyter-client in /usr/local/lib/python3.10/dist-packages (from ipykernel>=4.5.1->ipywidgets->ipyfilechooser>=0.6.0->geemap) (6.1.12)\n",
            "Requirement already satisfied: tornado>=4.2 in /usr/local/lib/python3.10/dist-packages (from ipykernel>=4.5.1->ipywidgets->ipyfilechooser>=0.6.0->geemap) (6.2)\n",
            "Requirement already satisfied: setuptools>=18.5 in /usr/local/lib/python3.10/dist-packages (from ipython>=4.0.0->ipywidgets->ipyfilechooser>=0.6.0->geemap) (67.7.2)\n",
            "Collecting jedi>=0.16 (from ipython>=4.0.0->ipywidgets->ipyfilechooser>=0.6.0->geemap)\n",
            "  Downloading jedi-0.18.2-py2.py3-none-any.whl (1.6 MB)\n",
            "\u001b[2K     \u001b[90m━━━━━━━━━━━━━━━━━━━━━━━━━━━━━━━━━━━━━━━━\u001b[0m \u001b[32m1.6/1.6 MB\u001b[0m \u001b[31m55.9 MB/s\u001b[0m eta \u001b[36m0:00:00\u001b[0m\n",
            "\u001b[?25hRequirement already satisfied: pickleshare in /usr/local/lib/python3.10/dist-packages (from ipython>=4.0.0->ipywidgets->ipyfilechooser>=0.6.0->geemap) (0.7.5)\n",
            "Requirement already satisfied: prompt-toolkit!=3.0.0,!=3.0.1,<3.1.0,>=2.0.0 in /usr/local/lib/python3.10/dist-packages (from ipython>=4.0.0->ipywidgets->ipyfilechooser>=0.6.0->geemap) (3.0.38)\n",
            "Requirement already satisfied: pygments in /usr/local/lib/python3.10/dist-packages (from ipython>=4.0.0->ipywidgets->ipyfilechooser>=0.6.0->geemap) (2.14.0)\n",
            "Requirement already satisfied: backcall in /usr/local/lib/python3.10/dist-packages (from ipython>=4.0.0->ipywidgets->ipyfilechooser>=0.6.0->geemap) (0.2.0)\n",
            "Requirement already satisfied: matplotlib-inline in /usr/local/lib/python3.10/dist-packages (from ipython>=4.0.0->ipywidgets->ipyfilechooser>=0.6.0->geemap) (0.1.6)\n",
            "Requirement already satisfied: pexpect>4.3 in /usr/local/lib/python3.10/dist-packages (from ipython>=4.0.0->ipywidgets->ipyfilechooser>=0.6.0->geemap) (4.8.0)\n",
            "Requirement already satisfied: pyasn1<0.6.0,>=0.4.6 in /usr/local/lib/python3.10/dist-packages (from pyasn1-modules>=0.2.1->google-auth>=1.4.1->earthengine-api>=0.1.347->geemap) (0.5.0)\n",
            "Requirement already satisfied: notebook>=4.4.1 in /usr/local/lib/python3.10/dist-packages (from widgetsnbextension~=3.6.0->ipywidgets->ipyfilechooser>=0.6.0->geemap) (6.4.8)\n",
            "Requirement already satisfied: parso<0.9.0,>=0.8.0 in /usr/local/lib/python3.10/dist-packages (from jedi>=0.16->ipython>=4.0.0->ipywidgets->ipyfilechooser>=0.6.0->geemap) (0.8.3)\n",
            "Requirement already satisfied: pyzmq>=17 in /usr/local/lib/python3.10/dist-packages (from notebook>=4.4.1->widgetsnbextension~=3.6.0->ipywidgets->ipyfilechooser>=0.6.0->geemap) (23.2.1)\n",
            "Requirement already satisfied: argon2-cffi in /usr/local/lib/python3.10/dist-packages (from notebook>=4.4.1->widgetsnbextension~=3.6.0->ipywidgets->ipyfilechooser>=0.6.0->geemap) (21.3.0)\n",
            "Requirement already satisfied: jupyter-core>=4.6.1 in /usr/local/lib/python3.10/dist-packages (from notebook>=4.4.1->widgetsnbextension~=3.6.0->ipywidgets->ipyfilechooser>=0.6.0->geemap) (5.3.0)\n",
            "Requirement already satisfied: nbformat in /usr/local/lib/python3.10/dist-packages (from notebook>=4.4.1->widgetsnbextension~=3.6.0->ipywidgets->ipyfilechooser>=0.6.0->geemap) (5.8.0)\n",
            "Requirement already satisfied: nbconvert in /usr/local/lib/python3.10/dist-packages (from notebook>=4.4.1->widgetsnbextension~=3.6.0->ipywidgets->ipyfilechooser>=0.6.0->geemap) (6.5.4)\n",
            "Requirement already satisfied: nest-asyncio>=1.5 in /usr/local/lib/python3.10/dist-packages (from notebook>=4.4.1->widgetsnbextension~=3.6.0->ipywidgets->ipyfilechooser>=0.6.0->geemap) (1.5.6)\n",
            "Requirement already satisfied: Send2Trash>=1.8.0 in /usr/local/lib/python3.10/dist-packages (from notebook>=4.4.1->widgetsnbextension~=3.6.0->ipywidgets->ipyfilechooser>=0.6.0->geemap) (1.8.0)\n",
            "Requirement already satisfied: terminado>=0.8.3 in /usr/local/lib/python3.10/dist-packages (from notebook>=4.4.1->widgetsnbextension~=3.6.0->ipywidgets->ipyfilechooser>=0.6.0->geemap) (0.17.1)\n",
            "Requirement already satisfied: prometheus-client in /usr/local/lib/python3.10/dist-packages (from notebook>=4.4.1->widgetsnbextension~=3.6.0->ipywidgets->ipyfilechooser>=0.6.0->geemap) (0.16.0)\n",
            "Requirement already satisfied: ptyprocess>=0.5 in /usr/local/lib/python3.10/dist-packages (from pexpect>4.3->ipython>=4.0.0->ipywidgets->ipyfilechooser>=0.6.0->geemap) (0.7.0)\n",
            "Requirement already satisfied: wcwidth in /usr/local/lib/python3.10/dist-packages (from prompt-toolkit!=3.0.0,!=3.0.1,<3.1.0,>=2.0.0->ipython>=4.0.0->ipywidgets->ipyfilechooser>=0.6.0->geemap) (0.2.6)\n",
            "Requirement already satisfied: platformdirs>=2.5 in /usr/local/lib/python3.10/dist-packages (from jupyter-core>=4.6.1->notebook>=4.4.1->widgetsnbextension~=3.6.0->ipywidgets->ipyfilechooser>=0.6.0->geemap) (3.3.0)\n",
            "Requirement already satisfied: argon2-cffi-bindings in /usr/local/lib/python3.10/dist-packages (from argon2-cffi->notebook>=4.4.1->widgetsnbextension~=3.6.0->ipywidgets->ipyfilechooser>=0.6.0->geemap) (21.2.0)\n",
            "Requirement already satisfied: lxml in /usr/local/lib/python3.10/dist-packages (from nbconvert->notebook>=4.4.1->widgetsnbextension~=3.6.0->ipywidgets->ipyfilechooser>=0.6.0->geemap) (4.9.2)\n",
            "Requirement already satisfied: beautifulsoup4 in /usr/local/lib/python3.10/dist-packages (from nbconvert->notebook>=4.4.1->widgetsnbextension~=3.6.0->ipywidgets->ipyfilechooser>=0.6.0->geemap) (4.11.2)\n",
            "Requirement already satisfied: bleach in /usr/local/lib/python3.10/dist-packages (from nbconvert->notebook>=4.4.1->widgetsnbextension~=3.6.0->ipywidgets->ipyfilechooser>=0.6.0->geemap) (6.0.0)\n",
            "Requirement already satisfied: defusedxml in /usr/local/lib/python3.10/dist-packages (from nbconvert->notebook>=4.4.1->widgetsnbextension~=3.6.0->ipywidgets->ipyfilechooser>=0.6.0->geemap) (0.7.1)\n",
            "Requirement already satisfied: entrypoints>=0.2.2 in /usr/local/lib/python3.10/dist-packages (from nbconvert->notebook>=4.4.1->widgetsnbextension~=3.6.0->ipywidgets->ipyfilechooser>=0.6.0->geemap) (0.4)\n",
            "Requirement already satisfied: jupyterlab-pygments in /usr/local/lib/python3.10/dist-packages (from nbconvert->notebook>=4.4.1->widgetsnbextension~=3.6.0->ipywidgets->ipyfilechooser>=0.6.0->geemap) (0.2.2)\n",
            "Requirement already satisfied: mistune<2,>=0.8.1 in /usr/local/lib/python3.10/dist-packages (from nbconvert->notebook>=4.4.1->widgetsnbextension~=3.6.0->ipywidgets->ipyfilechooser>=0.6.0->geemap) (0.8.4)\n",
            "Requirement already satisfied: nbclient>=0.5.0 in /usr/local/lib/python3.10/dist-packages (from nbconvert->notebook>=4.4.1->widgetsnbextension~=3.6.0->ipywidgets->ipyfilechooser>=0.6.0->geemap) (0.7.4)\n",
            "Requirement already satisfied: pandocfilters>=1.4.1 in /usr/local/lib/python3.10/dist-packages (from nbconvert->notebook>=4.4.1->widgetsnbextension~=3.6.0->ipywidgets->ipyfilechooser>=0.6.0->geemap) (1.5.0)\n",
            "Requirement already satisfied: tinycss2 in /usr/local/lib/python3.10/dist-packages (from nbconvert->notebook>=4.4.1->widgetsnbextension~=3.6.0->ipywidgets->ipyfilechooser>=0.6.0->geemap) (1.2.1)\n",
            "Requirement already satisfied: fastjsonschema in /usr/local/lib/python3.10/dist-packages (from nbformat->notebook>=4.4.1->widgetsnbextension~=3.6.0->ipywidgets->ipyfilechooser>=0.6.0->geemap) (2.16.3)\n",
            "Requirement already satisfied: jsonschema>=2.6 in /usr/local/lib/python3.10/dist-packages (from nbformat->notebook>=4.4.1->widgetsnbextension~=3.6.0->ipywidgets->ipyfilechooser>=0.6.0->geemap) (4.3.3)\n",
            "Requirement already satisfied: attrs>=17.4.0 in /usr/local/lib/python3.10/dist-packages (from jsonschema>=2.6->nbformat->notebook>=4.4.1->widgetsnbextension~=3.6.0->ipywidgets->ipyfilechooser>=0.6.0->geemap) (23.1.0)\n",
            "Requirement already satisfied: pyrsistent!=0.17.0,!=0.17.1,!=0.17.2,>=0.14.0 in /usr/local/lib/python3.10/dist-packages (from jsonschema>=2.6->nbformat->notebook>=4.4.1->widgetsnbextension~=3.6.0->ipywidgets->ipyfilechooser>=0.6.0->geemap) (0.19.3)\n",
            "Requirement already satisfied: cffi>=1.0.1 in /usr/local/lib/python3.10/dist-packages (from argon2-cffi-bindings->argon2-cffi->notebook>=4.4.1->widgetsnbextension~=3.6.0->ipywidgets->ipyfilechooser>=0.6.0->geemap) (1.15.1)\n",
            "Requirement already satisfied: soupsieve>1.2 in /usr/local/lib/python3.10/dist-packages (from beautifulsoup4->nbconvert->notebook>=4.4.1->widgetsnbextension~=3.6.0->ipywidgets->ipyfilechooser>=0.6.0->geemap) (2.4.1)\n",
            "Requirement already satisfied: webencodings in /usr/local/lib/python3.10/dist-packages (from bleach->nbconvert->notebook>=4.4.1->widgetsnbextension~=3.6.0->ipywidgets->ipyfilechooser>=0.6.0->geemap) (0.5.1)\n",
            "Requirement already satisfied: pycparser in /usr/local/lib/python3.10/dist-packages (from cffi>=1.0.1->argon2-cffi-bindings->argon2-cffi->notebook>=4.4.1->widgetsnbextension~=3.6.0->ipywidgets->ipyfilechooser>=0.6.0->geemap) (2.21)\n",
            "Building wheels for collected packages: pyperclip\n",
            "  Building wheel for pyperclip (setup.py) ... \u001b[?25l\u001b[?25hdone\n",
            "  Created wheel for pyperclip: filename=pyperclip-1.8.2-py3-none-any.whl size=11124 sha256=b56fc7b6f28d82c0d774b21b2cec323a64ab19cd86b2226cdab014e3962ae0a2\n",
            "  Stored in directory: /root/.cache/pip/wheels/04/24/fe/140a94a7f1036003ede94579e6b4227fe96c840c6f4dcbe307\n",
            "Successfully built pyperclip\n",
            "Installing collected packages: pyperclip, colour, xyzservices, traittypes, scooby, ratelim, python-box, jedi, geocoder, eerepr, ipytree, ipyleaflet, ipyfilechooser, ipyevents, bqplot, geemap\n",
            "Successfully installed bqplot-0.12.39 colour-0.1.5 eerepr-0.0.4 geemap-0.20.6 geocoder-1.38.1 ipyevents-2.0.1 ipyfilechooser-0.6.0 ipyleaflet-0.17.2 ipytree-0.2.2 jedi-0.18.2 pyperclip-1.8.2 python-box-7.0.1 ratelim-0.1.6 scooby-0.7.2 traittypes-0.2.1 xyzservices-2023.2.0\n",
            "Looking in indexes: https://pypi.org/simple, https://us-python.pkg.dev/colab-wheels/public/simple/\n",
            "Requirement already satisfied: earthengine-api in /usr/local/lib/python3.10/dist-packages (0.1.350)\n",
            "Requirement already satisfied: google-cloud-storage in /usr/local/lib/python3.10/dist-packages (from earthengine-api) (2.8.0)\n",
            "Requirement already satisfied: google-api-python-client>=1.12.1 in /usr/local/lib/python3.10/dist-packages (from earthengine-api) (2.84.0)\n",
            "Requirement already satisfied: google-auth>=1.4.1 in /usr/local/lib/python3.10/dist-packages (from earthengine-api) (2.17.3)\n",
            "Requirement already satisfied: google-auth-httplib2>=0.0.3 in /usr/local/lib/python3.10/dist-packages (from earthengine-api) (0.1.0)\n",
            "Requirement already satisfied: httplib2<1dev,>=0.9.2 in /usr/local/lib/python3.10/dist-packages (from earthengine-api) (0.21.0)\n",
            "Requirement already satisfied: requests in /usr/local/lib/python3.10/dist-packages (from earthengine-api) (2.27.1)\n",
            "Requirement already satisfied: google-api-core!=2.0.*,!=2.1.*,!=2.2.*,!=2.3.0,<3.0.0dev,>=1.31.5 in /usr/local/lib/python3.10/dist-packages (from google-api-python-client>=1.12.1->earthengine-api) (2.11.0)\n",
            "Requirement already satisfied: uritemplate<5,>=3.0.1 in /usr/local/lib/python3.10/dist-packages (from google-api-python-client>=1.12.1->earthengine-api) (4.1.1)\n",
            "Requirement already satisfied: cachetools<6.0,>=2.0.0 in /usr/local/lib/python3.10/dist-packages (from google-auth>=1.4.1->earthengine-api) (5.3.0)\n",
            "Requirement already satisfied: pyasn1-modules>=0.2.1 in /usr/local/lib/python3.10/dist-packages (from google-auth>=1.4.1->earthengine-api) (0.3.0)\n",
            "Requirement already satisfied: six>=1.9.0 in /usr/local/lib/python3.10/dist-packages (from google-auth>=1.4.1->earthengine-api) (1.16.0)\n",
            "Requirement already satisfied: rsa<5,>=3.1.4 in /usr/local/lib/python3.10/dist-packages (from google-auth>=1.4.1->earthengine-api) (4.9)\n",
            "Requirement already satisfied: pyparsing!=3.0.0,!=3.0.1,!=3.0.2,!=3.0.3,<4,>=2.4.2 in /usr/local/lib/python3.10/dist-packages (from httplib2<1dev,>=0.9.2->earthengine-api) (3.0.9)\n",
            "Requirement already satisfied: google-cloud-core<3.0dev,>=2.3.0 in /usr/local/lib/python3.10/dist-packages (from google-cloud-storage->earthengine-api) (2.3.2)\n",
            "Requirement already satisfied: google-resumable-media>=2.3.2 in /usr/local/lib/python3.10/dist-packages (from google-cloud-storage->earthengine-api) (2.5.0)\n",
            "Requirement already satisfied: urllib3<1.27,>=1.21.1 in /usr/local/lib/python3.10/dist-packages (from requests->earthengine-api) (1.26.15)\n",
            "Requirement already satisfied: certifi>=2017.4.17 in /usr/local/lib/python3.10/dist-packages (from requests->earthengine-api) (2022.12.7)\n",
            "Requirement already satisfied: charset-normalizer~=2.0.0 in /usr/local/lib/python3.10/dist-packages (from requests->earthengine-api) (2.0.12)\n",
            "Requirement already satisfied: idna<4,>=2.5 in /usr/local/lib/python3.10/dist-packages (from requests->earthengine-api) (3.4)\n",
            "Requirement already satisfied: googleapis-common-protos<2.0dev,>=1.56.2 in /usr/local/lib/python3.10/dist-packages (from google-api-core!=2.0.*,!=2.1.*,!=2.2.*,!=2.3.0,<3.0.0dev,>=1.31.5->google-api-python-client>=1.12.1->earthengine-api) (1.59.0)\n",
            "Requirement already satisfied: protobuf!=3.20.0,!=3.20.1,!=4.21.0,!=4.21.1,!=4.21.2,!=4.21.3,!=4.21.4,!=4.21.5,<5.0.0dev,>=3.19.5 in /usr/local/lib/python3.10/dist-packages (from google-api-core!=2.0.*,!=2.1.*,!=2.2.*,!=2.3.0,<3.0.0dev,>=1.31.5->google-api-python-client>=1.12.1->earthengine-api) (3.20.3)\n",
            "Requirement already satisfied: google-crc32c<2.0dev,>=1.0 in /usr/local/lib/python3.10/dist-packages (from google-resumable-media>=2.3.2->google-cloud-storage->earthengine-api) (1.5.0)\n",
            "Requirement already satisfied: pyasn1<0.6.0,>=0.4.6 in /usr/local/lib/python3.10/dist-packages (from pyasn1-modules>=0.2.1->google-auth>=1.4.1->earthengine-api) (0.5.0)\n"
          ]
        }
      ],
      "source": [
        "!pip install geemap\n",
        "!pip install earthengine-api\n",
        "!pip install PyShp\n",
        "!pip install PyCRS\n",
        "!pip install geopandas\n",
        "#geemap.update_package()"
      ]
    },
    {
      "cell_type": "markdown",
      "source": [
        "**Import libraries**"
      ],
      "metadata": {
        "id": "mbbnv6WnLPUZ"
      }
    },
    {
      "cell_type": "code",
      "source": [
        "import ee\n",
        "import geemap\n",
        "import geemap.colormaps as cm\n",
        "\n",
        "from ipyleaflet import *\n",
        "from ipywidgets import Label\n",
        "from datetime import datetime, timedelta\n",
        "import pandas as pd\n",
        "import numpy as np\n",
        "import matplotlib.pyplot as plt\n",
        "import sys\n",
        "import time\n",
        "import datetime\n",
        "from datetime import datetime\n",
        "from datetime import timedelta\n",
        "import numpy as np\n",
        "import matplotlib.pyplot as plt\n",
        "import matplotlib.dates as mdates\n",
        "from scipy.io import loadmat, savemat\n",
        "from scipy.interpolate import Akima1DInterpolator\n",
        "from scipy import signal\n",
        "from sklearn import preprocessing\n",
        "from sklearn.datasets import make_classification\n",
        "from sklearn.linear_model import LogisticRegression\n",
        "from sklearn.model_selection import train_test_split\n",
        "from sklearn.pipeline import make_pipeline\n",
        "from sklearn.preprocessing import StandardScaler\n",
        "from sklearn.preprocessing import normalize\n",
        "import matplotlib.ticker as ticker\n",
        "\n",
        "import pandas as pd\n",
        "from datetime import datetime, timedelta\n",
        "import math\n",
        "from shapely.geometry import box\n",
        "import time\n",
        "\n",
        "import scipy.io\n",
        "import os\n",
        "import pickle\n",
        "import datetime\n",
        "import numpy as np\n",
        "import array\n",
        "import matplotlib.pyplot as plt\n",
        "\n",
        "import pycrs\n",
        "import shapely\n",
        "import shapefile as shp\n",
        "from shapely.geometry import mapping\n",
        "#from scipy.stats.morestats import asarray"
      ],
      "metadata": {
        "id": "toGNlDEnLT44"
      },
      "execution_count": null,
      "outputs": []
    },
    {
      "cell_type": "markdown",
      "source": [
        "**Mount Google Drive**"
      ],
      "metadata": {
        "id": "iF51rVgJLbj3"
      }
    },
    {
      "cell_type": "code",
      "source": [
        "from google.colab import drive\n",
        "drive.mount('/content/drive')"
      ],
      "metadata": {
        "colab": {
          "base_uri": "https://localhost:8080/"
        },
        "id": "lwrD9CocLd9G",
        "outputId": "1e91266f-9951-45b2-853b-483f3b0ea50a"
      },
      "execution_count": null,
      "outputs": [
        {
          "output_type": "stream",
          "name": "stdout",
          "text": [
            "Mounted at /content/drive\n"
          ]
        }
      ]
    },
    {
      "cell_type": "markdown",
      "source": [
        "**Authenticate and initialize ee**"
      ],
      "metadata": {
        "id": "u1DxZqmxLm2k"
      }
    },
    {
      "cell_type": "code",
      "source": [
        "try:\n",
        "    ee.Initialize()\n",
        "except Exception as e:\n",
        "    ee.Authenticate()\n",
        "    ee.Initialize()"
      ],
      "metadata": {
        "id": "u5t3ZxJbLpQs"
      },
      "execution_count": null,
      "outputs": []
    },
    {
      "cell_type": "markdown",
      "source": [
        "**Select the Area of Interest**"
      ],
      "metadata": {
        "id": "zgILYWW4L399"
      }
    },
    {
      "cell_type": "code",
      "source": [
        "Map = geemap.Map()\n",
        "Map.default_style = {'cursor': 'crosshair'}\n",
        "Map.add_basemap('SATELLITE')\n",
        "\n",
        "# Center the map in the desired country\n",
        "country = 'Spain'\n",
        "country_bounds = ee.FeatureCollection(\"USDOS/LSIB_SIMPLE/2017\").filterMetadata('country_na', 'equals', country);\n",
        "Map.centerObject(country_bounds,8)\n",
        "\n",
        "Map"
      ],
      "metadata": {
        "id": "qO6REGmpL1Fk"
      },
      "execution_count": null,
      "outputs": []
    },
    {
      "cell_type": "markdown",
      "source": [
        "**Retrieve the ROI from the map**"
      ],
      "metadata": {
        "id": "1Nr2ppmeMFdm"
      }
    },
    {
      "cell_type": "code",
      "source": [
        "roi_shp= '/content/drive/MyDrive/Prometeo/ROIs Albufera/N_Polygon.shp'\n",
        "roi_N = geemap.shp_to_ee(roi_shp)\n",
        "Map.addLayer(roi_N, {},'Albufera ROI_N')\n",
        "\n",
        "roi_shp= '/content/drive/MyDrive/Prometeo/ROIs Albufera/S_Polygon.shp'\n",
        "roi_S = geemap.shp_to_ee(roi_shp)\n",
        "Map.addLayer(roi_S, {},'Albufera ROI_S')\n",
        "\n",
        "roi_shp= '/content/drive/MyDrive/Prometeo/ROIs Albufera/NW_Polygon.shp'\n",
        "roi_NW = geemap.shp_to_ee(roi_shp)\n",
        "Map.addLayer(roi_NW, {},'Albufera ROI_NW')\n",
        "\n",
        "roi_shp= '/content/drive/MyDrive/Prometeo/ROIs Albufera/SW_Polygon.shp'\n",
        "roi_SW = geemap.shp_to_ee(roi_shp)\n",
        "Map.addLayer(roi_SW, {},'Albufera ROI_SW')\n",
        "\n",
        "roi_shp= '/content/drive/MyDrive/Prometeo/ROIs Albufera/W_Polygon.shp'\n",
        "roi_W = geemap.shp_to_ee(roi_shp)\n",
        "Map.addLayer(roi_W, {},'Albufera ROI_W')\n",
        "\n",
        "Albufera_shp= '/content/drive/MyDrive/Prometeo/ROIs Albufera/Albufera curvas.shp'\n",
        "roi_Albufera = geemap.shp_to_ee(Albufera_shp)\n",
        "Map.addLayer(roi_Albufera, {},'Albufera ROI')\n"
      ],
      "metadata": {
        "id": "CPdwh4rIpAZS"
      },
      "execution_count": null,
      "outputs": []
    },
    {
      "cell_type": "code",
      "source": [
        "feature = Map.draw_last_feature\n",
        "roi_show_map = feature.geometry()"
      ],
      "metadata": {
        "id": "ki6IurRLMFFU"
      },
      "execution_count": null,
      "outputs": []
    },
    {
      "cell_type": "markdown",
      "source": [
        "**Model import**"
      ],
      "metadata": {
        "id": "-dqaTcxChRmZ"
      }
    },
    {
      "cell_type": "code",
      "source": [
        "!cp /content/drive/MyDrive/GEE_CHL_GPR_10KCV_model_1.py .\n",
        "!cp /content/drive/MyDrive/ZSD_Chl_GPR_MLRA_4KCV_model_20230216.py .\n",
        "!cp /content/drive/MyDrive/ZSD_Chl_GPR_MLRA_70train_model_20230216.py .\n",
        "!cp /content/drive/MyDrive/PC_GPR_4K_model_gee.py .\n",
        "\n",
        "\n",
        "import GEE_CHL_GPR_10KCV_model_1\n",
        "import ZSD_Chl_GPR_MLRA_4KCV_model_20230216\n",
        "import ZSD_Chl_GPR_MLRA_70train_model_20230216\n",
        "import PC_GPR_4K_model_gee"
      ],
      "metadata": {
        "id": "mxnMFkVsZN8D"
      },
      "execution_count": null,
      "outputs": []
    },
    {
      "cell_type": "code",
      "source": [
        "#Albufera_insitu_data = loadmat('drive/MyDrive/Prometeo/Embarca_Insitu_Albufera_2016_2023.mat',squeeze_me=True)\n",
        "Albufera_insitu_data = loadmat('drive/MyDrive/Prometeo/Centro_Insitu_Albufera_2016_2023.mat',squeeze_me=True)\n",
        "X_insitu = np.array(Albufera_insitu_data['Insitu_date'])\n",
        "X_insitu = pd.to_datetime(X_insitu-719529, unit='D')\n",
        "Chl_insitu = Albufera_insitu_data['Chlorophyll']\n",
        "Secchi_insitu = Albufera_insitu_data['Secchi']"
      ],
      "metadata": {
        "id": "AUv5dgRClEJP"
      },
      "execution_count": null,
      "outputs": []
    },
    {
      "cell_type": "markdown",
      "source": [
        "**Functions**"
      ],
      "metadata": {
        "id": "-zjWqaQjMdS-"
      }
    },
    {
      "cell_type": "code",
      "source": [
        "# Auxiliar function for mapping : (1..n) -> (B1..Bn)\n",
        "def band_names(element):\n",
        "  bandName = ee.String('B').cat(ee.Number(element).int().format())\n",
        "  return bandName\n",
        "\n",
        "def addDoy(image):\n",
        "  doy = image.date().getRelative('day', 'year')\n",
        "  doyBand = ee.Image.constant(doy).uint16().rename('doy')\n",
        "  return image.addBands(doyBand)"
      ],
      "metadata": {
        "id": "uZKfPqXsjEjL"
      },
      "execution_count": null,
      "outputs": []
    },
    {
      "cell_type": "code",
      "source": [
        "# Water variable GPR for mean prediction\n",
        "def water_var_GPR(image_orig):\n",
        "  \n",
        "  # Create List of Bands of Dimension n (Xtrain[n,n])\n",
        "  XTrain_dim = currentModel['X_train'].length().get([0]).getInfo();\n",
        "\n",
        "  band_sequence   = (ee.List.sequence(1, XTrain_dim)\n",
        "                    .map(band_names));\n",
        "  \n",
        "  # Create a list of band names for flattening operation \n",
        "  im_norm_ell2D_hypell = image_orig.subtract(ee.Image(currentModel['mx'])).divide(ee.Image(currentModel['sx'])).multiply(ee.Image(currentModel['hyp_ell'])).toArray().toArray(1); \n",
        "  \n",
        "  im_norm_ell2D = image_orig.subtract(ee.Image(currentModel['mx'])).divide(ee.Image(currentModel['sx'])).toArray().toArray(1); \n",
        "  \n",
        "  PtTPt  = im_norm_ell2D_hypell.matrixTranspose().matrixMultiply(im_norm_ell2D).arrayProject([0]).multiply(-0.5); \n",
        "  \n",
        "  PtTDX  = ee.Image(currentModel['X_train']).matrixMultiply(im_norm_ell2D_hypell).arrayProject([0]).arrayFlatten([band_sequence]);\n",
        "  \n",
        "  arg1   = PtTPt.exp().multiply(currentModel['hyp_sig']);\n",
        "  \n",
        "  k_star = PtTDX.subtract(ee.Image(currentModel['XDX_pre_calc']).multiply(0.5)).exp().toArray();\n",
        "  \n",
        "  mean_pred = k_star.arrayDotProduct(ee.Image(currentModel['alpha_coefficients']).toArray()).multiply(arg1);\n",
        "  \n",
        "  mean_pred = mean_pred.toArray(1).arrayProject([0]).arrayFlatten([[currentModel['veg_index']]]);\n",
        "  \n",
        "  mean_pred = mean_pred.add(currentModel['mean_model']);\n",
        "  \n",
        "  # Mask values equal or less than 0\n",
        "  mean_pred = mean_pred.updateMask(mean_pred.gt(0))\n",
        "  \n",
        "  image_orig = image_orig.addBands(mean_pred)\n",
        "  \n",
        "  return image_orig.select(currentModel['veg_index'])"
      ],
      "metadata": {
        "id": "4o0OBuaPjF7s"
      },
      "execution_count": null,
      "outputs": []
    },
    {
      "cell_type": "code",
      "source": [
        "def mask_gt(image):\n",
        "  veg_index_mask = image.select(currentModel['veg_index']).gt(0).rename('veg_index_mask')\n",
        "  return image.addBands(veg_index_mask).select('veg_index_mask')\n",
        "\n",
        "def addVariables(image):\n",
        "  date = ee.Date(image.get(\"system:time_start\"))\n",
        "  years = date.difference(ee.Date('1970-01-01'),'days')\n",
        "  return image.addBands(ee.Image(years).rename('t').float())"
      ],
      "metadata": {
        "id": "l6Kb5S5NjdeG"
      },
      "execution_count": null,
      "outputs": []
    },
    {
      "cell_type": "code",
      "source": [
        "def extract_ts(roi, col, band):\n",
        "    \"\"\" Constructs a dataframe with the time series for the ROI with the image\n",
        "        collection.\n",
        "\n",
        "        Parameters\n",
        "        ----------\n",
        "        roi : ee.Geometry, Region of interest\n",
        "        \n",
        "        col : ee.ImageCollection\n",
        "        \n",
        "        band : string, Name of the band to retrieve\n",
        "        \n",
        "        Returns\n",
        "        ------\n",
        "        A pandas dataframe\n",
        "        \n",
        "    \"\"\"\n",
        "                \n",
        "    # Auxiliar function to replace the null values with custom value(-9999)\n",
        "    # so we do not lose the masked values.\n",
        "    def set_NAN(key,val):       \n",
        "        return ee.List([val, -9999]).reduce(ee.Reducer.firstNonNull())\n",
        "\n",
        "    # Retrieve the mean value of the band in the roi and the date of the image\n",
        "    def get_ts(image):        \n",
        "        stat = image.select([band]).reduceRegion(\n",
        "            reducer = ee.Reducer.mean(),\n",
        "            geometry= roi,\n",
        "            scale= 20,\n",
        "            bestEffort= True        \n",
        "        )\n",
        "        stat = stat.map(set_NAN)\n",
        "        return ee.Feature(roi, stat).set({'millis': image.date().millis()})\n",
        "    \n",
        "    # List of features containing the reduced value and the date\n",
        "    ts = col.map(get_ts)\n",
        "        \n",
        "    # Lists of values and dates\n",
        "    y = ts.aggregate_array(band).getInfo()\n",
        "    dates_ms = ts.aggregate_array('millis').getInfo() # Date in ms\n",
        "    x = [datetime.fromtimestamp(d//1000.0) for d in dates_ms] # Formatted date    \n",
        "    \n",
        "    # Dictionary that will feed the pandas dataframe\n",
        "    dict = {'date': x, band: y} \n",
        "    # Contruct the df and replace the custom NaN values(-9999) with np.nan\n",
        "    df = pd.DataFrame(dict).replace(-9999, np.nan)    \n",
        "    return df"
      ],
      "metadata": {
        "id": "dQJkgJwxjggu"
      },
      "execution_count": null,
      "outputs": []
    },
    {
      "cell_type": "code",
      "source": [
        "# Masking function for water and cloud\n",
        "def maskS2cloud_and_water(image):\n",
        "  not_water = image.select('SCL').neq(6);\n",
        "  not_cloud_low = image.select('SCL').neq(7);\n",
        "  not_cloud_medium = image.select('SCL').neq(8);\n",
        "  not_cloud_high = image.select('SCL').neq(9);\n",
        "  not_cirrus = image.select('SCL').neq(10);\n",
        "  \n",
        "  qa = image.select('QA60');\n",
        "  cloudBitMask = 1 << 10;\n",
        "  cirrusBitMask = 1 << 11;\n",
        "  mask = (qa.bitwiseAnd(cloudBitMask).eq(0).And(qa.bitwiseAnd(cirrusBitMask).eq(0)).And(not_water).And(not_cloud_low)\n",
        "          .And(not_cloud_medium).And(not_cloud_high).And(not_cirrus))\n",
        "  return image.updateMask(mask).divide(10000).copyProperties(qa).set('system:time_start', qa.get('system:time_start'))"
      ],
      "metadata": {
        "id": "vELqGHpUMXOI"
      },
      "execution_count": null,
      "outputs": []
    },
    {
      "cell_type": "code",
      "source": [
        "#Function to mask clouds using the Sentinel-2 QA band\n",
        " \n",
        "def maskS2clouds(image):\n",
        "    qa = image.select('QA60');\n",
        "    #Bits 10 and 11 are clouds and cirrus, respectively.\n",
        "    cloudBitMask = 1 << 10;\n",
        "    cirrusBitMask = 1 << 11;\n",
        "\n",
        "    #Both flags should be set to zero, indicating clear conditions.\n",
        "    #mask = qa.bitwiseAnd(cloudBitMask).eq(0)and(qa.bitwiseAnd(cirrusBitMask).eq(0));\n",
        "    mask = qa.bitwiseAnd(cloudBitMask).eq(0).And(qa.bitwiseAnd(cirrusBitMask).eq(0));\n",
        "\n",
        "    return image.updateMask(mask).divide(10000).copyProperties(image).set(\"system:time_start\", image.get(\"system:time_start\"));"
      ],
      "metadata": {
        "id": "_2JzbXb-MoIP"
      },
      "execution_count": null,
      "outputs": []
    },
    {
      "cell_type": "code",
      "source": [
        "# Function to calculate and add Phycocyanin band\n",
        "#ficocianina_S2 = #e^2.6151*(R740/R665)+3.6369;\n",
        "#R740 nm = B6\n",
        "#R665 nm = B4\n",
        "\n",
        "def addFICOS2(image):\n",
        "    fico = (((image.select('B6').divide(image.select('B4')).multiply(2.6151)).add(3.6369))).exp().rename('fico')\n",
        "\n",
        "    return image.addBands(fico)"
      ],
      "metadata": {
        "id": "oYsm5NVtB-Bf"
      },
      "execution_count": null,
      "outputs": []
    },
    {
      "cell_type": "code",
      "source": [
        "# Function to calculate and add Chlorophyll band\n",
        "#TBDO = R740*(1/R665 - 1/R705)\n",
        "#clorofila_S2 = 104.1*(TBDO^2) + 221.1*TBDO + 2\n",
        "#R665 = B4\n",
        "#R705 = B5\n",
        "#R740 = B6\n",
        "\n",
        "def addCHLROS2(image):\n",
        "    tbdo = (image.select('B6').divide(image.select('B4'))).subtract(image.select('B6').divide(image.select('B5')))\n",
        "    chlro =  ((tbdo.multiply(tbdo).multiply(104.1).add(tbdo.multiply(221.1))).add(2)).rename('chlro')\n",
        "\n",
        "    return image.addBands(chlro)"
      ],
      "metadata": {
        "id": "9PVAwQKwxch0"
      },
      "execution_count": null,
      "outputs": []
    },
    {
      "cell_type": "code",
      "source": [
        "# Function to calculate and add Secchi band\n",
        "#profundidad_Secchi_S2 =  0.224*(R560/R704)+0.0836\n",
        "#R560 nm = B3\n",
        "#R704 nm = B5\n",
        "\n",
        "def addCECCHIS2(image):\n",
        "    cecchi = ((image.select('B3').divide(image.select('B5')).multiply(0.224)).add(0.0836)).rename('cecchi')\n",
        "    return image.addBands(cecchi)"
      ],
      "metadata": {
        "id": "6xWA5atexj3z"
      },
      "execution_count": null,
      "outputs": []
    },
    {
      "cell_type": "markdown",
      "source": [
        "Dates of interest and acquisitions configuration parameters"
      ],
      "metadata": {
        "id": "rUpzMesZNmvy"
      }
    },
    {
      "cell_type": "code",
      "source": [
        "# Configuration Parameters\n",
        "start_date = '2017-03-28'\n",
        "end_date = '2023-05-04'\n",
        "S2_CPP = 3 # CLOUDY_PIXEL_PERCENTAGE\n",
        "#roi = roi_show_map\n",
        "roi = roi_N.geometry()\n",
        "geometry = roi_Albufera"
      ],
      "metadata": {
        "id": "OUDTAHYZNW4b"
      },
      "execution_count": null,
      "outputs": []
    },
    {
      "cell_type": "code",
      "source": [
        "roi"
      ],
      "metadata": {
        "id": "urLXUtEBHW1E"
      },
      "execution_count": null,
      "outputs": []
    },
    {
      "cell_type": "markdown",
      "source": [
        "Create the initial image collection with the spectral bands"
      ],
      "metadata": {
        "id": "v5qFkqNaZeBe"
      }
    },
    {
      "cell_type": "code",
      "source": [
        "def clipcol(image):\n",
        "    clipimage = image.clip(roi_Albufera)\n",
        "    return clipimage"
      ],
      "metadata": {
        "id": "58h6lsM1uT62"
      },
      "execution_count": null,
      "outputs": []
    },
    {
      "cell_type": "code",
      "source": [
        "# Add NDWI band to image collection\n",
        "def addNDWI(image):\n",
        "    return image.addBands(image.normalizedDifference(['B3', 'B5']).rename('NDWI'));\n",
        "\n",
        "# Function to mask out NDWI\n",
        "def S2maskedWater(image):\n",
        "    NDWI = image.select(['NDWI']);\n",
        "    return image.addBands(ee.Image(1).updateMask(NDWI.gte(-0.3)).rename('NDWI_mask')); #lte\n",
        "\n",
        "def maskBands(image):\n",
        "  return image.select(['B2', 'B3', 'B4', 'B5', 'B6', 'B7','B8A','NDWI']).updateMask(image.select('NDWI_mask'));"
      ],
      "metadata": {
        "id": "CpVwawSzPW-M"
      },
      "execution_count": null,
      "outputs": []
    },
    {
      "cell_type": "code",
      "source": [
        "# Retrieving Sentinel 2 imagery \n",
        "print('SENTINEL-2 time series being retrieved')\n",
        "S2collection_raw = ee.ImageCollection('COPERNICUS/S2_SR_HARMONIZED')\\\n",
        "                   .filterBounds(roi)\\\n",
        "                   .filterDate(start_date,end_date)\\\n",
        "                   .map(maskS2clouds)\\\n",
        "                   .filterMetadata('CLOUDY_PIXEL_PERCENTAGE','less_than', S2_CPP)\\\n",
        "                   .map(clipcol)\\\n",
        "                   .select(['B2', 'B3', 'B4', 'B5', 'B6', 'B7','B8A'])\n",
        "                   #.select(['B2', 'B3', 'B4', 'B5', 'B6', 'B7', 'B8', 'B8A', 'B11', 'B12'])\n",
        "                   #.filter(ee.Filter.lt('CLOUDY_PIXEL_PERCENTAGE', 5))\\  \n",
        "\n",
        "# Apply water masking functions to image collection\n",
        "S2collection_aux = S2collection_raw.map(addNDWI).map(S2maskedWater).map(maskBands);  \n",
        "S2collection_ini = S2collection_aux.select(['B2', 'B3', 'B4', 'B5', 'B6', 'B7','B8A']);\n",
        "S2collection_ini\n",
        "# Map over the collection and use the function\n",
        "#S2_NDWI_masked_collection = S2collection.map(maskBands);\n",
        "#S2_masked_collection = S2collection.map(maskBands).select(['NDWI']);"
      ],
      "metadata": {
        "id": "JA2rLDwjZi5m"
      },
      "execution_count": null,
      "outputs": []
    },
    {
      "cell_type": "markdown",
      "source": [
        "S2 dates extraction"
      ],
      "metadata": {
        "id": "2GphMjlQQkEC"
      }
    },
    {
      "cell_type": "code",
      "source": [
        "# Creating labels - Multitemporal plotting \n",
        "labels_S2 = S2collection_ini.aggregate_array(\"system:index\").getInfo()\n",
        "\n",
        "# Dates S2\n",
        "Dates_S2 = []\n",
        "for i in labels_S2:\n",
        "    Dates_S2.append(datetime.datetime.strptime(i.split('_')[0].split('T')[0], '%Y%m%d').date())\n",
        "Dates_S2.sort()\n",
        "\n",
        "#datetime.datetime.strptime(date, \"%Y-%m-%d\")\n",
        "#https://stackoverflow.com/questions/19480028/attributeerror-datetime-module-has-no-attribute-strptime"
      ],
      "metadata": {
        "id": "I9c6F79HMjc1"
      },
      "execution_count": null,
      "outputs": []
    },
    {
      "cell_type": "markdown",
      "source": [
        "Create the predicted mean image collection"
      ],
      "metadata": {
        "id": "mof_OkJoXXZt"
      }
    },
    {
      "cell_type": "code",
      "source": [
        "#GPR retrieval model configuration\n",
        "currentwatervariable ='Chl'\n",
        "currentModel = GEE_CHL_GPR_10KCV_model_1.models[currentwatervariable]\n"
      ],
      "metadata": {
        "id": "6-om1s_kiQnp"
      },
      "execution_count": null,
      "outputs": []
    },
    {
      "cell_type": "code",
      "source": [
        "S2_GPR_CHL_collection =  S2collection_ini.map(water_var_GPR).select(currentModel['veg_index'])\n",
        "#S2_GPR_CHL_collection"
      ],
      "metadata": {
        "id": "tmZL7ABEi3Sf"
      },
      "execution_count": null,
      "outputs": []
    },
    {
      "cell_type": "code",
      "source": [
        "del currentwatervariable\n",
        "del currentModel "
      ],
      "metadata": {
        "id": "O4a-JFQLEXuC"
      },
      "execution_count": null,
      "outputs": []
    },
    {
      "cell_type": "code",
      "source": [
        "#GPR retrieval model configuration\n",
        "currentwatervariable ='PC'\n",
        "currentModel = PC_GPR_4K_model_gee.models[currentwatervariable]"
      ],
      "metadata": {
        "id": "PsAHtsFtXy8h"
      },
      "execution_count": null,
      "outputs": []
    },
    {
      "cell_type": "code",
      "source": [
        "S2_GPR_PC_collection =  S2collection_ini.map(water_var_GPR).select(currentModel['veg_index'])\n",
        "#S2_GPR_PC_collection"
      ],
      "metadata": {
        "id": "UBr6I3XvXzQh"
      },
      "execution_count": null,
      "outputs": []
    },
    {
      "cell_type": "code",
      "source": [
        "del currentwatervariable\n",
        "del currentModel "
      ],
      "metadata": {
        "id": "gLlMWmjWXzcy"
      },
      "execution_count": null,
      "outputs": []
    },
    {
      "cell_type": "code",
      "source": [
        "currentwatervariable ='ZSD'\n",
        "currentModel = ZSD_Chl_GPR_MLRA_4KCV_model_20230216.models[currentwatervariable]"
      ],
      "metadata": {
        "id": "p-ODIu3e8xnd"
      },
      "execution_count": null,
      "outputs": []
    },
    {
      "cell_type": "code",
      "source": [
        "S2_GPR_ZSD_collection =  S2collection_ini.map(water_var_GPR).select(currentModel['veg_index'])\n",
        "#S2_GPR_ZSD_collection"
      ],
      "metadata": {
        "id": "3aQyY62C-SWR"
      },
      "execution_count": null,
      "outputs": []
    },
    {
      "cell_type": "code",
      "source": [
        "del currentwatervariable\n",
        "del currentModel \n",
        "currentwatervariable ='ZSD'\n",
        "currentModel = ZSD_Chl_GPR_MLRA_70train_model_20230216.models[currentwatervariable]\n",
        "S2_GPR_ZSD2_collection =  S2collection_ini.map(water_var_GPR).select(currentModel['veg_index'])\n",
        "#S2_GPR_ZSD2_collection"
      ],
      "metadata": {
        "id": "VEKnITcTmqYK"
      },
      "execution_count": null,
      "outputs": []
    },
    {
      "cell_type": "code",
      "source": [
        "# Add FICO band to image collection\n",
        "FICO_collection = S2collection_ini.map(addFICOS2).select('fico')\n",
        "#FICO_collection"
      ],
      "metadata": {
        "id": "2hfKdt3kFLDg"
      },
      "execution_count": null,
      "outputs": []
    },
    {
      "cell_type": "code",
      "source": [
        "# Add CHLRO band to image collection\n",
        "CHLRO_collection = S2collection_ini.map(addCHLROS2).select('chlro')\n",
        "#CHLRO_collection"
      ],
      "metadata": {
        "id": "qGQvYuL12ovz"
      },
      "execution_count": null,
      "outputs": []
    },
    {
      "cell_type": "code",
      "source": [
        "# Add CECCHI band to image collection\n",
        "CECCHI_collection = S2collection_ini.map(addCECCHIS2).select('cecchi')\n",
        "#CECCHI_collection"
      ],
      "metadata": {
        "id": "wrZUDHhK13_7"
      },
      "execution_count": null,
      "outputs": []
    },
    {
      "cell_type": "markdown",
      "source": [
        "S2 image collection to a numpy array conversion"
      ],
      "metadata": {
        "id": "Z_xHZwWFPL4j"
      }
    },
    {
      "cell_type": "code",
      "source": [
        "S2_GPR_CHL_image = S2_GPR_CHL_collection.toBands().unmask(0);\n",
        "S2_GPR_CHL_image_nparray = geemap.ee_to_numpy(ee_object = S2_GPR_CHL_image.toArray(), region=roi, default_value=None)\n",
        "\n",
        "S2_GPR_PC_image = S2_GPR_PC_collection.toBands().unmask(0);\n",
        "S2_GPR_PC_image_nparray = geemap.ee_to_numpy(ee_object = S2_GPR_PC_image.toArray(), region=roi, default_value=None)\n",
        "\n",
        "S2_GPR_ZSD_image = S2_GPR_ZSD_collection.toBands().unmask(0);\n",
        "S2_GPR_ZSD_image_nparray = geemap.ee_to_numpy(ee_object = S2_GPR_ZSD_image.toArray(), region=roi, default_value=None)\n",
        "\n",
        "S2_GPR_ZSD2_image = S2_GPR_ZSD2_collection.toBands().unmask(0);\n",
        "S2_GPR_ZSD2_image_nparray = geemap.ee_to_numpy(ee_object = S2_GPR_ZSD2_image.toArray(), region=roi, default_value=None)\n",
        "\n",
        "S2_FICO_image = FICO_collection.toBands().unmask(0);\n",
        "S2_FICO_image_nparray = geemap.ee_to_numpy(ee_object = S2_FICO_image.toArray(), region=roi, default_value=None)\n",
        "\n",
        "S2_CHLRO_image = CHLRO_collection.toBands().unmask(0);\n",
        "S2_CHLRO_image_nparray = geemap.ee_to_numpy(ee_object = S2_CHLRO_image.toArray(), region=roi, default_value=None)\n",
        "\n",
        "S2_CECCHI_image = CECCHI_collection.toBands().unmask(0);\n",
        "S2_CECCHI_image_nparray = geemap.ee_to_numpy(ee_object = S2_CECCHI_image.toArray(), region=roi, default_value=None)\n",
        "\n",
        "print('S2 ROI Dimension')\n",
        "print(S2_CHLRO_image_nparray.shape)"
      ],
      "metadata": {
        "id": "x-1zhQGKPMQQ"
      },
      "execution_count": null,
      "outputs": []
    },
    {
      "cell_type": "code",
      "source": [
        "# Parcel mean calculations\n",
        "S2_GPR_CHL_parcel_mean = np.mean(S2_GPR_CHL_image_nparray, axis = 0)\n",
        "S2_GPR_CHL_parcel_mean = np.mean(S2_GPR_CHL_parcel_mean, axis = 0)\n",
        "S2_GPR_CHL_parcel_std = np.std(S2_GPR_CHL_parcel_mean, axis=0)\n",
        "\n",
        "S2_GPR_PC_parcel_mean = np.mean(S2_GPR_PC_image_nparray, axis = 0)\n",
        "S2_GPR_PC_parcel_mean = np.mean(S2_GPR_PC_parcel_mean, axis = 0)\n",
        "S2_GPR_PC_parcel_std = np.std(S2_GPR_PC_parcel_mean, axis=0)\n",
        "\n",
        "S2_GPR_ZSD_parcel_mean = np.mean(S2_GPR_ZSD_image_nparray, axis = 0)\n",
        "S2_GPR_ZSD_parcel_mean = np.mean(S2_GPR_ZSD_parcel_mean, axis = 0)\n",
        "S2_GPR_ZSD_parcel_std = np.std(S2_GPR_ZSD_parcel_mean, axis=0)\n",
        "\n",
        "S2_GPR_ZSD2_parcel_mean = np.mean(S2_GPR_ZSD2_image_nparray, axis = 0)\n",
        "S2_GPR_ZSD2_parcel_mean = np.mean(S2_GPR_ZSD2_parcel_mean, axis = 0)\n",
        "S2_GPR_ZSD2_parcel_std = np.std(S2_GPR_ZSD2_parcel_mean, axis=0)\n",
        "\n",
        "S2_FICO_parcel_mean = np.mean(S2_FICO_image_nparray, axis = 0)\n",
        "S2_FICO_parcel_mean = np.mean(S2_FICO_parcel_mean, axis = 0)\n",
        "S2_FICO_parcel_std = np.std(S2_FICO_parcel_mean, axis=0)\n",
        "\n",
        "S2_CHLRO_parcel_mean = np.mean(S2_CHLRO_image_nparray, axis = 0)\n",
        "S2_CHLRO_parcel_mean = np.mean(S2_CHLRO_parcel_mean, axis = 0)\n",
        "S2_CHLRO_parcel_std = np.std(S2_CHLRO_parcel_mean, axis=0)\n",
        "\n",
        "S2_CECCHI_parcel_mean = np.mean(S2_CECCHI_image_nparray, axis = 0)\n",
        "S2_CECCHI_parcel_mean = np.mean(S2_CECCHI_parcel_mean, axis = 0)\n",
        "S2_CECCHI_parcel_std = np.std(S2_CECCHI_parcel_mean, axis=0)"
      ],
      "metadata": {
        "id": "zv3TvZc4uaTb"
      },
      "execution_count": null,
      "outputs": []
    },
    {
      "cell_type": "markdown",
      "source": [
        "S2 time-series plotting"
      ],
      "metadata": {
        "id": "1AvkN7tifKVY"
      }
    },
    {
      "cell_type": "code",
      "source": [
        "axmaxloc = S2_CHLRO_image_nparray.shape[2]/4;\n",
        "axminloc = S2_CHLRO_image_nparray.shape[2]/4;\n",
        "\n",
        "# Sentinel 2 Phycocyanin parametric index model time series plotting \n",
        "\n",
        "plt.figure(figsize= (16,4))\n",
        "ax = plt.axes()\n",
        "ax.xaxis.set_major_locator(ticker.MultipleLocator(axmaxloc))\n",
        "ax.xaxis.set_minor_locator(ticker.MultipleLocator(axminloc))\n",
        "ax.xaxis.set_major_formatter(mdates.DateFormatter('%Y-%m-%d'))\n",
        "\n",
        "plt.plot(Dates_S2,S2_FICO_parcel_mean,linestyle=\"--\",marker=\"o\",markerfacecolor='r',markeredgecolor='k',markersize=8,lw=4)\n",
        "plt.fill_between(Dates_S2, S2_FICO_parcel_mean-S2_FICO_parcel_std,S2_FICO_parcel_mean+S2_FICO_parcel_std ,alpha=0.25,color='grey')\n",
        "plt.title('S2 Phycocyanin ROI parametric index model')\n",
        "plt.legend(['S2 Phycocyanin (roi-mean)','S2 Phycocyanin + 1*std'])\n",
        "plt.grid(1)\n",
        "plt.ylabel('Phycocyanin [$\\mu$g $L^{-1}$]',fontsize='14')\n",
        "plt.grid(1)\n",
        "plt.xticks(rotation=45, ha='right')\n",
        "plt.show()\n",
        "\n",
        "\n",
        "\"\"\"\n",
        "plt.figure(figsize= (16,4))\n",
        "ax = plt.axes()\n",
        "ax.xaxis.set_major_locator(ticker.MultipleLocator(axmaxloc))\n",
        "ax.xaxis.set_minor_locator(ticker.MultipleLocator(axminloc))\n",
        "ax.xaxis.set_major_formatter(mdates.DateFormatter('%Y-%m-%d'))\n",
        "plt.plot(Dates_S2,S2_FICO_parcel_mean,'--k', lw=2)\n",
        "plt.errorbar(Dates_S2,S2_FICO_parcel_mean, fmt='ro', label=\"data\",yerr=S2_FICO_parcel_std, ecolor='black', lw=1,capsize=4)\n",
        "plt.title('S2 Phycocyanin ROI')\n",
        "plt.legend(['S2 Phycocyanin (roi-mean)','S2 Phycocyanin + 1*std'])\n",
        "plt.grid(1)\n",
        "plt.ylabel('Phycocyanin [$\\mu$g $L^{-1}$]',fontsize='14')\n",
        "plt.xticks(rotation=45, ha='right')\n",
        "plt.show()\n",
        "\"\"\"\n",
        "\n",
        "# Sentinel 2 Chlrophyll parametric index model time series plotting \n",
        "\n",
        "plt.figure(figsize= (16,4))\n",
        "ax = plt.axes()\n",
        "ax.xaxis.set_major_locator(ticker.MultipleLocator(axmaxloc))\n",
        "ax.xaxis.set_minor_locator(ticker.MultipleLocator(axminloc))\n",
        "ax.xaxis.set_major_formatter(mdates.DateFormatter('%Y-%m-%d'))\n",
        "\n",
        "plt.plot(Dates_S2,S2_CHLRO_parcel_mean,linestyle=\"--\",marker=\"o\",markerfacecolor='b',markeredgecolor='k',markersize=8,lw=4)\n",
        "plt.fill_between(Dates_S2, S2_CHLRO_parcel_mean-S2_CHLRO_parcel_std,S2_CHLRO_parcel_mean+S2_CHLRO_parcel_std ,alpha=0.25,color='blue')\n",
        "plt.title('S2 Chlorophyll ROI parametric index model')\n",
        "plt.legend(['S2 Chlorophyll (roi-mean)','S2 Chlorophyll + 1*std'])\n",
        "plt.grid(1)\n",
        "plt.ylabel('Chlorophyll [$\\mu$g $L^{-1}$]',fontsize='14')\n",
        "plt.grid(1)\n",
        "plt.xticks(rotation=45, ha='right')\n",
        "plt.show()\n",
        "\n",
        "# Sentinel 2 Secchi disc depth parametric index model time series plotting \n",
        "\n",
        "plt.figure(figsize= (16,4))\n",
        "ax = plt.axes()\n",
        "ax.xaxis.set_major_locator(ticker.MultipleLocator(axmaxloc))\n",
        "ax.xaxis.set_minor_locator(ticker.MultipleLocator(axminloc))\n",
        "ax.xaxis.set_major_formatter(mdates.DateFormatter('%Y-%m-%d'))\n",
        "plt.plot(Dates_S2,S2_CECCHI_parcel_mean,linestyle=\"--\",marker=\"o\",markerfacecolor='g',markeredgecolor='k',markersize=8,lw=4)\n",
        "plt.fill_between(Dates_S2, S2_CECCHI_parcel_mean-S2_CECCHI_parcel_std,S2_CECCHI_parcel_mean+S2_CECCHI_parcel_std ,alpha=0.25,color='red')\n",
        "plt.title('S2 Secchi disc depth ROI parametric index model')\n",
        "plt.legend(['S2 Secchi disc depth (roi-mean)','S2 Secchi disc depth + 1*std'])\n",
        "plt.grid(1)\n",
        "plt.ylabel('Secchi disc depth [m]',fontsize='14')\n",
        "plt.grid(1)\n",
        "plt.xticks(rotation=45, ha='right')\n",
        "plt.show()\n",
        "\n",
        "\n",
        "plt.figure(figsize= (16,4))\n",
        "ax = plt.axes()\n",
        "ax.xaxis.set_major_locator(ticker.MultipleLocator(axmaxloc))\n",
        "ax.xaxis.set_minor_locator(ticker.MultipleLocator(axminloc))\n",
        "ax.xaxis.set_major_formatter(mdates.DateFormatter('%Y-%m-%d'))\n",
        "\n",
        "plt.plot(Dates_S2,S2_GPR_CHL_parcel_mean,linestyle=\"--\",lw=2,label='Chl_GPR')\n",
        "plt.plot(Dates_S2,S2_CHLRO_parcel_mean,linestyle=\"--\",lw=2,label='Chl_index')\n",
        "plt.plot(X_insitu,Chl_insitu,'kx',markerfacecolor='k',markeredgecolor='k',markersize=8,label='Chl_in-situ')\n",
        "plt.title('S2 Chlorophyll ROI')\n",
        "plt.legend()\n",
        "plt.grid(1)\n",
        "plt.ylabel('Chlorophyll [$\\mu$g $L^{-1}$]',fontsize='14')\n",
        "plt.grid(1)\n",
        "plt.xticks(rotation=45, ha='right')\n",
        "plt.show()\n",
        "\n",
        "\n",
        "# Sentinel 2 Phycocyanin GPR model time series plotting \n",
        "\n",
        "plt.figure(figsize= (16,4))\n",
        "ax = plt.axes()\n",
        "ax.xaxis.set_major_locator(ticker.MultipleLocator(axmaxloc))\n",
        "ax.xaxis.set_minor_locator(ticker.MultipleLocator(axminloc))\n",
        "ax.xaxis.set_major_formatter(mdates.DateFormatter('%Y-%m-%d'))\n",
        "\n",
        "plt.plot(Dates_S2,S2_GPR_PC_parcel_mean,linestyle=\"--\",marker=\"o\",markerfacecolor='r',markeredgecolor='k',markersize=8,lw=4)\n",
        "plt.fill_between(Dates_S2, S2_GPR_PC_parcel_mean-S2_GPR_PC_parcel_std,S2_GPR_PC_parcel_mean+S2_GPR_PC_parcel_std ,alpha=0.25,color='grey')\n",
        "plt.title('S2 Phycocyanin ROI GPR model')\n",
        "plt.legend(['S2 Phycocyanin GPR (roi-mean)','S2 Phycocyanin GPR + 1*std'])\n",
        "plt.grid(1)\n",
        "plt.ylabel('Phycocyanin [$\\mu$g $L^{-1}$]',fontsize='14')\n",
        "plt.grid(1)\n",
        "plt.xticks(rotation=45, ha='right')\n",
        "plt.show()\n",
        "\n",
        "\"\"\"\n",
        "plt.figure(figsize= (16,4))\n",
        "ax = plt.axes()\n",
        "ax.xaxis.set_major_locator(ticker.MultipleLocator(axmaxloc))\n",
        "ax.xaxis.set_minor_locator(ticker.MultipleLocator(axminloc))\n",
        "ax.xaxis.set_major_formatter(mdates.DateFormatter('%Y-%m-%d'))\n",
        "plt.plot(Dates_S2,S2_CHLRO_parcel_mean,'--k', lw=2)\n",
        "plt.errorbar(Dates_S2,S2_CHLRO_parcel_mean, fmt='ro', label=\"data\",yerr=S2_CHLRO_parcel_std, ecolor='black', lw=1,capsize=4)\n",
        "plt.title('S2 Chlorophyll ROI')\n",
        "plt.legend(['S2 Chlorophyll (roi-mean)','S2 Chlorophyll GPR + 1*std'])\n",
        "plt.grid(1)\n",
        "plt.ylabel('Chlorophyll [$\\mu$g $L^{-1}$]',fontsize='14')\n",
        "plt.xticks(rotation=45, ha='right')\n",
        "plt.show()\n",
        "\"\"\"\n",
        "\n",
        "# Sentinel 2 Chlorophyll GPR model time series plotting \n",
        "\n",
        "plt.figure(figsize= (16,4))\n",
        "ax = plt.axes()\n",
        "ax.xaxis.set_major_locator(ticker.MultipleLocator(axmaxloc))\n",
        "ax.xaxis.set_minor_locator(ticker.MultipleLocator(axminloc))\n",
        "ax.xaxis.set_major_formatter(mdates.DateFormatter('%Y-%m-%d'))\n",
        "\n",
        "plt.plot(Dates_S2,S2_GPR_CHL_parcel_mean,linestyle=\"--\",marker=\"o\",markerfacecolor='b',markeredgecolor='k',markersize=8,lw=4)\n",
        "plt.fill_between(Dates_S2, S2_GPR_CHL_parcel_mean-S2_GPR_CHL_parcel_std,S2_GPR_CHL_parcel_mean+S2_GPR_CHL_parcel_std ,alpha=0.25,color='blue')\n",
        "plt.title('S2 Chlorophyll ROI GPR model')\n",
        "plt.legend(['S2 Chlorophyll GPR (roi-mean)','S2 Chlorophyll GPR + 1*std'])\n",
        "plt.grid(1)\n",
        "plt.ylabel('Chlorophyll [$\\mu$g $L^{-1}$]',fontsize='14')\n",
        "plt.grid(1)\n",
        "plt.xticks(rotation=45, ha='right')\n",
        "plt.show()\n",
        "\n",
        "\"\"\"\n",
        "plt.figure(figsize= (16,4))\n",
        "ax = plt.axes()\n",
        "ax.xaxis.set_major_locator(ticker.MultipleLocator(axmaxloc))\n",
        "ax.xaxis.set_minor_locator(ticker.MultipleLocator(axminloc))\n",
        "ax.xaxis.set_major_formatter(mdates.DateFormatter('%Y-%m-%d'))\n",
        "plt.plot(Dates_S2,S2_CECCHI_parcel_mean,'--k', lw=2)\n",
        "plt.errorbar(Dates_S2,S2_CECCHI_parcel_mean, fmt='ro', label=\"data\",yerr=S2_CECCHI_parcel_std, ecolor='black', lw=1,capsize=4)\n",
        "plt.title('S2 Secchi disc depth ROI')\n",
        "plt.legend(['S2 Secchi disc depth (roi-mean)','S2 Secchi disc depth + 1*std'])\n",
        "plt.grid(1)\n",
        "plt.ylabel('Secchi disc depth [m]',fontsize='14')\n",
        "plt.xticks(rotation=45, ha='right')\n",
        "plt.show()\n",
        "\"\"\"\n",
        "#Sentinel 2 Secchi Disk Depth GPR model time series plotting \n",
        "\n",
        "plt.figure(figsize= (16,4))\n",
        "ax = plt.axes()\n",
        "ax.xaxis.set_major_locator(ticker.MultipleLocator(axmaxloc))\n",
        "ax.xaxis.set_minor_locator(ticker.MultipleLocator(axminloc))\n",
        "ax.xaxis.set_major_formatter(mdates.DateFormatter('%Y-%m-%d'))\n",
        "\n",
        "plt.plot(Dates_S2,S2_GPR_ZSD_parcel_mean,linestyle=\"--\",lw=2,label='ZSD_CV_GPR')\n",
        "plt.plot(Dates_S2,S2_GPR_ZSD2_parcel_mean,linestyle=\"--\",lw=2,label='ZSD_70%_GPR')\n",
        "plt.plot(Dates_S2,S2_CECCHI_parcel_mean,linestyle=\"--\",lw=2,label='ZSD_index')\n",
        "plt.plot(X_insitu,Secchi_insitu,'kx',markerfacecolor='k',markeredgecolor='k',markersize=8,label='ZSD_insitu')\n",
        "plt.title('S2 Secchi disc depth ROI GPR model')\n",
        "plt.legend()\n",
        "plt.grid(1)\n",
        "plt.ylabel('Secchi disc depth [m]',fontsize='14')\n",
        "plt.grid(1)\n",
        "plt.xticks(rotation=45, ha='right')\n",
        "plt.show()\n",
        "\n",
        "\n",
        "# Sentinel 2 Secchi Disk Depth GPR model time series plotting \n",
        "\n",
        "plt.figure(figsize= (16,4))\n",
        "ax = plt.axes()\n",
        "ax.xaxis.set_major_locator(ticker.MultipleLocator(axmaxloc))\n",
        "ax.xaxis.set_minor_locator(ticker.MultipleLocator(axminloc))\n",
        "ax.xaxis.set_major_formatter(mdates.DateFormatter('%Y-%m-%d'))\n",
        "\n",
        "plt.plot(Dates_S2,S2_GPR_ZSD_parcel_mean,linestyle=\"--\",marker=\"o\",markerfacecolor='green',markeredgecolor='k',markersize=8,lw=4)\n",
        "plt.fill_between(Dates_S2, S2_GPR_ZSD_parcel_mean-S2_GPR_ZSD_parcel_std,S2_GPR_ZSD_parcel_mean+S2_GPR_ZSD_parcel_std ,alpha=0.25,color='red')\n",
        "plt.title('S2 Secchi disc depth ROI GPR model')\n",
        "plt.legend(['S2 SDD GPR (roi-mean)','S2 SDD GPR + 1*std'])\n",
        "plt.grid(1)\n",
        "plt.ylabel('Secchi disc depth [m]',fontsize='14')\n",
        "plt.grid(1)\n",
        "plt.xticks(rotation=45, ha='right')\n",
        "plt.show()\n"
      ],
      "metadata": {
        "id": "XNndosxHR_ck"
      },
      "execution_count": null,
      "outputs": []
    },
    {
      "cell_type": "code",
      "source": [
        "S2_GPR_ZSD_parcel_mean[18]"
      ],
      "metadata": {
        "id": "VMN29gEZIgR8"
      },
      "execution_count": null,
      "outputs": []
    },
    {
      "cell_type": "code",
      "source": [
        "#Comparative Graphs\n",
        "\n",
        "# Sentinel 2 Phycocyanin parametrix index model vs GPR model time series plotting \n",
        "\n",
        "plt.figure(figsize= (16,4))\n",
        "ax = plt.axes()\n",
        "ax.xaxis.set_major_locator(ticker.MultipleLocator(axmaxloc))\n",
        "ax.xaxis.set_minor_locator(ticker.MultipleLocator(axminloc))\n",
        "ax.xaxis.set_major_formatter(mdates.DateFormatter('%Y-%m-%d'))\n",
        "\n",
        "plt.plot(Dates_S2,S2_FICO_parcel_mean,linestyle=\"--\",marker=\"o\",markerfacecolor='r',markeredgecolor='k',markersize=6,lw=3,label='S2 PC parametric model')\n",
        "plt.fill_between(Dates_S2, S2_FICO_parcel_mean-S2_FICO_parcel_std,S2_FICO_parcel_mean+S2_FICO_parcel_std ,alpha=0.25,color='grey',label='S2 PC (index) + 1*std')\n",
        "plt.plot(Dates_S2,S2_GPR_PC_parcel_mean,linestyle=\"--\",marker=\"o\",markerfacecolor='y',markeredgecolor='k',markersize=6,lw=3,label='S2 PC GPR model')\n",
        "plt.fill_between(Dates_S2, S2_GPR_PC_parcel_mean-S2_GPR_PC_parcel_std,S2_GPR_PC_parcel_mean+S2_GPR_PC_parcel_std ,alpha=0.25,color='blue',label='S2 PC (GPR) + 1*std')\n",
        "#plt.title('S2 Phycocyanin ROI comparison')\n",
        "plt.legend()\n",
        "plt.grid(1)\n",
        "plt.ylabel('Phycocyanin [$\\mu$g $L^{-1}$]',fontsize='14')\n",
        "plt.grid(1)\n",
        "plt.xticks(rotation=45, ha='right')\n",
        "plt.show()\n",
        "\n",
        "# Sentinel 2 Chlorophyll parametric index model vs GPR model time series plotting \n",
        "\n",
        "plt.figure(figsize= (16,4))\n",
        "ax = plt.axes()\n",
        "ax.xaxis.set_major_locator(ticker.MultipleLocator(axmaxloc))\n",
        "ax.xaxis.set_minor_locator(ticker.MultipleLocator(axminloc))\n",
        "ax.xaxis.set_major_formatter(mdates.DateFormatter('%Y-%m-%d'))\n",
        "\n",
        "plt.plot(Dates_S2,S2_CHLRO_parcel_mean,linestyle=\"--\",marker=\"o\",markerfacecolor='c',markeredgecolor='k',markersize=6,lw=3,label='S2 Chl-a parametric model')\n",
        "plt.fill_between(Dates_S2, S2_CHLRO_parcel_mean-S2_CHLRO_parcel_std,S2_CHLRO_parcel_mean+S2_CHLRO_parcel_std ,alpha=0.25,color='grey',label='S2 Chl-a (index) + 1*std')\n",
        "plt.plot(Dates_S2,S2_GPR_CHL_parcel_mean,linestyle=\"--\",marker=\"o\",markerfacecolor='m',markeredgecolor='k',markersize=6,lw=3,label='S2 Chl-a GPR model')\n",
        "plt.fill_between(Dates_S2, S2_GPR_CHL_parcel_mean-S2_GPR_CHL_parcel_std,S2_GPR_CHL_parcel_mean+S2_GPR_CHL_parcel_std ,alpha=0.25,color='green',label='S2 Chl-a (GPR) + 1*std')\n",
        "\n",
        "#plt.title('S2 Chlorophyll ROI comparison')\n",
        "plt.legend()\n",
        "plt.grid(1)\n",
        "plt.ylabel('Chlorophyll [$\\mu$g $L^{-1}$]',fontsize='14')\n",
        "plt.grid(1)\n",
        "plt.xticks(rotation=45, ha='right')\n",
        "plt.show()\n",
        "\n",
        "# Sentinel 2 Secchi Disk Depth parametric index model vs GPR model time series plotting \n",
        "\n",
        "plt.figure(figsize= (16,4))\n",
        "ax = plt.axes()\n",
        "ax.xaxis.set_major_locator(ticker.MultipleLocator(axmaxloc))\n",
        "ax.xaxis.set_minor_locator(ticker.MultipleLocator(axminloc))\n",
        "ax.xaxis.set_major_formatter(mdates.DateFormatter('%Y-%m-%d'))\n",
        "\n",
        "plt.plot(Dates_S2,S2_CECCHI_parcel_mean,linestyle=\"--\",marker=\"o\",markerfacecolor='white',markeredgecolor='k',markersize=6,lw=3,label='S2 SDD parametric model')\n",
        "plt.fill_between(Dates_S2, S2_CECCHI_parcel_mean-S2_CECCHI_parcel_std,S2_CECCHI_parcel_mean+S2_CECCHI_parcel_std ,alpha=0.25,color='grey',label='S2 SDD (index) + 1*std')\n",
        "plt.plot(Dates_S2,S2_GPR_ZSD_parcel_mean,linestyle=\"--\",marker=\"o\",markerfacecolor='blue',markeredgecolor='k',markersize=6,lw=3,label='S2 SDD GPR model')\n",
        "plt.fill_between(Dates_S2, S2_GPR_ZSD_parcel_mean-S2_GPR_ZSD_parcel_std,S2_GPR_ZSD_parcel_mean+S2_GPR_ZSD_parcel_std ,alpha=0.25,color='red',label='S2 SDD (GPR) + 1*std')\n",
        "#plt.title('S2 Secchi disc depth ROI comparison')\n",
        "plt.legend()\n",
        "plt.grid(1)\n",
        "plt.ylabel('Secchi disc depth [m]',fontsize='14')\n",
        "plt.grid(1)\n",
        "plt.xticks(rotation=45, ha='right')\n",
        "plt.show()"
      ],
      "metadata": {
        "id": "W4qzu9TZzzxU"
      },
      "execution_count": null,
      "outputs": []
    },
    {
      "cell_type": "markdown",
      "source": [
        "**Water parameter mapping**"
      ],
      "metadata": {
        "id": "91v73KlVfajA"
      }
    },
    {
      "cell_type": "code",
      "source": [
        "palette_PC = cm.get_palette('viridis', n_class=10)\n",
        "vis_PC = {'min': 0, 'max': 500, 'palette': palette_PC}\n",
        "cm.plot_colormap('viridis', width=8.0, height=0.4, orientation='horizontal')"
      ],
      "metadata": {
        "id": "4AoNZhAAq-Z3"
      },
      "execution_count": null,
      "outputs": []
    },
    {
      "cell_type": "code",
      "source": [
        "palette_CHL = cm.get_palette('gist_rainbow_r', n_class=10)\n",
        "vis_CHL = {'min': 0, 'max': 300, 'palette': palette_CHL}\n",
        "cm.plot_colormap('gist_rainbow_r', width=8.0, height=0.4, orientation='horizontal')"
      ],
      "metadata": {
        "id": "q_ENaVk1rbIO"
      },
      "execution_count": null,
      "outputs": []
    },
    {
      "cell_type": "code",
      "source": [
        "palette_SDD = cm.get_palette('cool_r', n_class=10)\n",
        "vis_SDD = {'min': 0.25, 'max': 0.45, 'palette': palette_SDD}\n",
        "cm.plot_colormap('cool_r', width=8.0, height=0.4, orientation='horizontal')"
      ],
      "metadata": {
        "id": "gk76lpMyZID-"
      },
      "execution_count": null,
      "outputs": []
    },
    {
      "cell_type": "code",
      "source": [
        "# Define the visualization parameters.\n",
        "vizParams = {\n",
        "  'bands': ['B4', 'B3', 'B2'],\n",
        "  'min': 0,\n",
        "  'max': 0.2,\n",
        "  #'gamma': [0.95, 1.1, 1]\n",
        "}"
      ],
      "metadata": {
        "id": "CloXYuFjwewO"
      },
      "execution_count": null,
      "outputs": []
    },
    {
      "cell_type": "code",
      "source": [
        "u_lat = 39.34\n",
        "u_lon = -0.35\n",
        "\n",
        "Map_S2 = geemap.Map()\n",
        "Map_S2 = geemap.Map(center=(u_lat,u_lon), zoom=13)\n",
        "Map_S2.set_plot_options(add_marker_cluster=True)\n",
        "Map_S2"
      ],
      "metadata": {
        "id": "maf4pektXo9e"
      },
      "execution_count": null,
      "outputs": []
    },
    {
      "cell_type": "code",
      "source": [
        "S2collection_list = S2collection_ini.toList(S2collection_ini.size());\n",
        "S2image = ee.Image(S2collection_list.get(231)) #.clip(roi_Albufera);\n",
        "#S2image"
      ],
      "metadata": {
        "id": "OyIsBnZCyb_1"
      },
      "execution_count": null,
      "outputs": []
    },
    {
      "cell_type": "code",
      "source": [
        "#Map_S2.addLayer(S2image, vizParams,'false color composite')\n",
        "\n",
        "#Map_S2.addLayer(S2_GPR_CHL_image.select(212),vis_CHL, 'S2 CHL')\n",
        "#Map_S2.addLayer(S2_GPR_PC_image.select(231),vis_PC, 'S2 PC')\n",
        "Map_S2.addLayer(S2_FICO_image.select(2),vis_PC, 'S2 PC')\n",
        "#Map_S2.addLayer(S2_CHLRO_image.select(226),vis_CHL, 'S2 CHL')\n",
        "#Map_S2.addLayer(CHLRO_collection.mean(),vis_CHL, 'S2 CHL')\n",
        "#Map_S2.addLayer(S2_GPR_CHL_collection.mean(),vis_CHL, 'S2 CHL')\n",
        "#Map_S2.addLayer(S2_GPR_PC_collection.mean(),vis_PC, 'S2 PC')\n",
        "#Map_S2.addLayer(S2_GPR_ZSD_collection.mean(),vis_SDD, 'S2 SDD')\n",
        "#Map_S2.add_time_slider(S2_GPR_ZSD_collection ,vis_SDD, region=roi_Albufera,layer_name='S2 Time-series',labels=labels_S2, time_interval=1)\n",
        "#Map_S2.add_time_slider(S2_GPR_PC_collection ,vis_PC, region=roi_Albufera,layer_name='S2 Time-series',labels=labels_S2, time_interval=1)\n",
        "#Map_S2.add_time_slider(S2_GPR_CHL_collection ,vis_CHL, region=roi_Albufera,layer_name='S2 Time-series',labels=labels_S2, time_interval=1)\n",
        "#Map_S2.addLayer(roi, {},'ROI')\n",
        "Map_S2.addLayer(roi_Albufera, {},'Albufera ROI',opacity = 0.3)\n",
        "#Map_S2.add_colorbar(vis_SDD, label=\"SDD (m)\", orientation=\"vertical\", layer_name=\"SDD GPR\")\n",
        "Map_S2.add_colorbar(vis_PC, label=\"PC (ug/L)\", orientation=\"horizontal\", layer_name=\"SDD GPR\")\n",
        "#Map_S2.add_colorbar(vis_CHL, label=\"CHL (ug/L)\", orientation=\"horizontal\", layer_name=\"SDD GPR\")"
      ],
      "metadata": {
        "id": "4JRO6KkeZP5F"
      },
      "execution_count": null,
      "outputs": []
    },
    {
      "cell_type": "code",
      "source": [
        "cm.list_colormaps()"
      ],
      "metadata": {
        "id": "wT6LfKltSGys"
      },
      "execution_count": null,
      "outputs": []
    },
    {
      "cell_type": "code",
      "source": [
        "!pip install pygal\n",
        "!pip install ipygee"
      ],
      "metadata": {
        "id": "fVZEDNe-EGfh"
      },
      "execution_count": null,
      "outputs": []
    },
    {
      "cell_type": "code",
      "source": [
        "import ipygee as ui\n",
        "import pygal\n",
        "from ipygee import *\n",
        "from ipygee import chart"
      ],
      "metadata": {
        "id": "hemaLShdBsyi"
      },
      "execution_count": null,
      "outputs": []
    },
    {
      "cell_type": "code",
      "source": [
        "# Chart *series*\n",
        "test_site = roi_Albufera\n",
        "chart_ts_GPR_Chl = ui.chart.Image.series(**{\n",
        "    'imageCollection': S2_GPR_CHL_collection, \n",
        "    'region': test_site,\n",
        "    'scale': 20,\n",
        "    'reducer': ee.Reducer.mean(),\n",
        "    'xProperty': 'system:time_start', \n",
        "    'system':'index',\n",
        "    'bands': ['Chl'],\n",
        "    'labels': ['Date','Chl-a']\n",
        "})\n",
        "\n",
        "chart_ts_GPR_Chl.renderWidget()  # for Jupyter Notebook or Lab"
      ],
      "metadata": {
        "id": "Gs14qY6A6mGl"
      },
      "execution_count": null,
      "outputs": []
    },
    {
      "cell_type": "code",
      "source": [
        "chart_ts_index_Chl = ui.chart.Image.series(**{\n",
        "    'imageCollection': CHLRO_collection, \n",
        "    'region': test_site,\n",
        "    'scale': 20,\n",
        "    'reducer': ee.Reducer.mean(),\n",
        "    'xProperty': 'system:time_start',\n",
        "    'bands': ['chlro'],\n",
        "    'labels': ['Date','Chl-a']\n",
        "})\n",
        "\n",
        "chart_ts_index_Chl.renderWidget()  # for Jupyter Notebook or Lab"
      ],
      "metadata": {
        "id": "oMqdkI72zdn0"
      },
      "execution_count": null,
      "outputs": []
    },
    {
      "cell_type": "code",
      "source": [
        "# Chart *series*\n",
        "chart_ts_GPR_PC = ui.chart.Image.series(**{\n",
        "    'imageCollection': S2_GPR_PC_collection, \n",
        "    'region': test_site,\n",
        "    'scale': 20,\n",
        "    'reducer': ee.Reducer.mean(),\n",
        "    'xProperty': 'system:time_start', \n",
        "    'system':'index',\n",
        "    'bands': ['PC'],\n",
        "    'labels': ['Date','PC']\n",
        "})\n",
        "\n",
        "chart_ts_GPR_PC.renderWidget()  # for Jupyter Notebook or Lab"
      ],
      "metadata": {
        "id": "WHK8p54oN263"
      },
      "execution_count": null,
      "outputs": []
    },
    {
      "cell_type": "code",
      "source": [
        "chart_ts_index_PC = ui.chart.Image.series(**{\n",
        "    'imageCollection': FICO_collection, \n",
        "    'region': roi_show_map, #test_site\n",
        "    'scale': 20,\n",
        "    'reducer': ee.Reducer.mean(),\n",
        "    'bands': ['fico'],\n",
        "    'labels': ['Date','PC']\n",
        "})\n",
        "\n",
        "chart_ts_index_PC.renderWidget()  # for Jupyter Notebook or Lab"
      ],
      "metadata": {
        "id": "7XUEVzvG4ARX"
      },
      "execution_count": null,
      "outputs": []
    },
    {
      "cell_type": "code",
      "source": [
        "# Chart *series*\n",
        "chart_ts_SDD = ui.chart.Image.series(**{\n",
        "    'imageCollection': S2_GPR_ZSD_collection, \n",
        "    'region': test_site,\n",
        "    'scale': 300,\n",
        "    'reducer': ee.Reducer.mean(),\n",
        "    'xProperty': 'system:time_start',\n",
        "    'bands': ['ZSD'],\n",
        "    'labels': ['Date','SDD']\n",
        "})\n",
        "\n",
        "chart_ts_SDD.renderWidget()  # for Jupyter Notebook or Lab"
      ],
      "metadata": {
        "id": "wmAB9YHpOA7e"
      },
      "execution_count": null,
      "outputs": []
    },
    {
      "cell_type": "code",
      "source": [
        "# Sentinel 2 time series plotting \n",
        "df_GPR_chl = chart_ts_GPR_Chl.dataframe\n",
        "df_index_chl = chart_ts_index_Chl.dataframe\n",
        "\n",
        "df_GPR_PC = chart_ts_GPR_PC.dataframe\n",
        "df_index_PC = chart_ts_index_PC.dataframe\n",
        "\n",
        "plt.figure(figsize= (16,4))\n",
        "ax = plt.axes()\n",
        "ax.xaxis.set_major_locator(ticker.MultipleLocator(axmaxloc))\n",
        "ax.xaxis.set_minor_locator(ticker.MultipleLocator(axminloc))\n",
        "ax.xaxis.set_major_formatter(mdates.DateFormatter('%Y-%m-%d'))\n",
        "df_GPR_chl.plot(y='Chl', kind='line',figsize=(16,4),color='green', ax=ax,linestyle=\"--\",marker=\"o\",markerfacecolor='m',markeredgecolor='k',markersize=6,lw=3,label='S2 Chl-a GPR model');\n",
        "df_index_chl.plot(y='chlro', kind='line',figsize=(16,4),lw=3,color='black', ax=ax,linestyle=\"--\",marker=\"o\",markerfacecolor='c',markeredgecolor='k',markersize=6,label='S2 Chl-a parametric model');\n",
        "plt.legend()\n",
        "#plt.ylim(0,300)\n",
        "plt.ylabel('Chlorophyll [$\\mu$g $L^{-1}$]',fontsize='14')\n",
        "plt.grid(1)\n",
        "plt.xticks(rotation=45, ha='right')\n",
        "plt.show()\n",
        "\n",
        "plt.figure(figsize= (16,4))\n",
        "ax = plt.axes()\n",
        "ax.xaxis.set_major_locator(ticker.MultipleLocator(axmaxloc))\n",
        "ax.xaxis.set_minor_locator(ticker.MultipleLocator(axminloc))\n",
        "ax.xaxis.set_major_formatter(mdates.DateFormatter('%Y-%m-%d'))\n",
        "df_GPR_PC.plot(y='PC', kind='line',figsize=(16,4),color='orange', ax=ax,linestyle=\"--\",marker=\"o\",markerfacecolor='r',markeredgecolor='k',markersize=6,lw=3,label='S2 PC GPR model');\n",
        "df_index_PC.plot(y='fico', kind='line',figsize=(16,4),lw=3,color='blue', ax=ax,linestyle=\"--\",marker=\"o\",markerfacecolor='y',markeredgecolor='k',markersize=6,label='S2 PC parametric model');\n",
        "plt.legend()\n",
        "plt.ylim(0,5000)\n",
        "plt.ylabel('Phycocyanin [$\\mu$g $L^{-1}$]',fontsize='14')\n",
        "plt.grid(1)\n",
        "plt.xticks(rotation=45, ha='right')\n",
        "plt.show()\n",
        "\n",
        "df_SDD = chart_ts_SDD.dataframe\n",
        "plt.figure(figsize= (16,4))\n",
        "ax = plt.axes()\n",
        "ax.xaxis.set_major_locator(ticker.MultipleLocator(axmaxloc))\n",
        "ax.xaxis.set_minor_locator(ticker.MultipleLocator(axminloc))\n",
        "ax.xaxis.set_major_formatter(mdates.DateFormatter('%Y-%m-%d'))\n",
        "df_SDD.plot(y='ZSD', kind='line',figsize=(16,4),lw=3,color='black', ax=ax);\n",
        "plt.legend()\n",
        "plt.ylabel('Secchi Disc Depth [m]',fontsize='14')\n",
        "plt.grid(1)\n",
        "plt.xticks(rotation=45, ha='right')\n",
        "plt.show()"
      ],
      "metadata": {
        "id": "CvY5LfRfBJXT"
      },
      "execution_count": null,
      "outputs": []
    },
    {
      "cell_type": "code",
      "source": [
        "# Function to mask out NDWI\n",
        "def S2maskedWater2(image):\n",
        "    NDWI = image.select(['NDWI']);\n",
        "    return image.addBands(ee.Image(1).updateMask(NDWI.lte(-0.3)).rename('NDWI_mask')); #gte\n",
        "\n",
        "S2collection_aux2 = S2collection_raw.map(addNDWI).map(S2maskedWater2).map(maskBands);  \n",
        "\n",
        "# Add NDWI_mask band to image collection\n",
        "NDWI_collection = S2collection_aux2.select('NDWI')\n",
        "\n",
        "S2_NDWI_mask_image = NDWI_collection.toBands().unmask(0);"
      ],
      "metadata": {
        "id": "IKl2-bc9tIC5"
      },
      "execution_count": null,
      "outputs": []
    },
    {
      "cell_type": "code",
      "source": [
        "palette_NDWI = cm.get_palette('gist_rainbow_r', n_class=10)\n",
        "vis_NDWI = {'min': -1, 'max': 0, 'palette': palette_NDWI}\n",
        "cm.plot_colormap('gist_rainbow_r', width=8.0, height=0.4, orientation='horizontal')"
      ],
      "metadata": {
        "id": "LoyB7lpDuuWE"
      },
      "execution_count": null,
      "outputs": []
    },
    {
      "cell_type": "code",
      "source": [
        "u_lat = 39.34\n",
        "u_lon = -0.35\n",
        "\n",
        "Map_S2_2 = geemap.Map()\n",
        "Map_S2_2 = geemap.Map(center=(u_lat,u_lon), zoom=13)\n",
        "Map_S2_2.set_plot_options(add_marker_cluster=True)\n",
        "Map_S2_2"
      ],
      "metadata": {
        "id": "SpW6eyBo3-tY"
      },
      "execution_count": null,
      "outputs": []
    },
    {
      "cell_type": "code",
      "source": [
        "#Map_S2_2.add_time_slider(NDWI_collection ,vis_NDWI, region=roi_Albufera,layer_name='S2 Time-series',labels=labels_S2, time_interval=1)\n",
        "Map_S2_2.addLayer(S2_NDWI_mask_image.select(2),vis_NDWI,'S2 CHL')\n",
        "#Map_S2_2.addLayer(S2_masked_collection_image.select(212),vis_NDWI,'S2 NDWI')\n",
        "Map_S2_2.addLayer(roi_Albufera, {},'Albufera ROI',opacity = 0.3)\n",
        "Map_S2_2.add_colorbar(vis_NDWI, label=\"NDWI\", orientation=\"horizontal\", layer_name=\"NDWI\")\n",
        "\n",
        "#Map_S2_2.addLayer(S2_CHLRO_image.select(157),vis_CHL, 'S2 CHL')\n",
        "#Map_S2.add_colorbar(vis_CHL, label=\"CHL (ug/L)\", orientation=\"vertical\", layer_name=\"SDD CHL\")"
      ],
      "metadata": {
        "id": "jbFM8piQ4uQu"
      },
      "execution_count": null,
      "outputs": []
    },
    {
      "cell_type": "code",
      "source": [
        "\n",
        "chart_NDWI_histogram = ui.Chart.image.histogram(**{\n",
        "    \n",
        "        image: modisSr, region: histRegion, scale: 500})\n",
        "        .setSeriesNames(['Red', 'NIR', 'SWIR'])\n",
        "        .setOptions({\n",
        "          title: 'MODIS SR Reflectance Histogram',\n",
        "          hAxis: {\n",
        "            title: 'Reflectance (scaled by 1e4)',\n",
        "            titleTextStyle: {italic: false, bold: true},\n",
        "          },\n",
        "          vAxis:\n",
        "              {title: 'Count', titleTextStyle: {italic: false, bold: true}},\n",
        "          colors: ['cf513e', '1d6b99', 'f0af07']\n",
        "        });\n",
        "print(chart);\n",
        "\n",
        "# Chart *series*\n",
        "chart_ts_SDD = ui.chart.Image.series(**{\n",
        "    'imageCollection': S2_GPR_ZSD_collection, \n",
        "    'region': test_site,\n",
        "    'scale': 300,\n",
        "    'reducer': ee.Reducer.mean(),\n",
        "    'xProperty': 'system:time_start',\n",
        "    'bands': ['ZSD'],\n",
        "    'labels': ['Date','SDD']\n",
        "})\n",
        "\n",
        "chart_ts_SDD.renderWidget()  # for Jupyter Notebook or Lab"
      ],
      "metadata": {
        "id": "stKzDzYD3_pY"
      },
      "execution_count": null,
      "outputs": []
    },
    {
      "cell_type": "markdown",
      "source": [
        "S1 collection filtering"
      ],
      "metadata": {
        "id": "q6flS-zElOzg"
      }
    }
  ]
}